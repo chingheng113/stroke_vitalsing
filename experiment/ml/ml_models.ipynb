{
 "cells": [
  {
   "cell_type": "code",
   "execution_count": 1,
   "metadata": {},
   "outputs": [
    {
     "name": "stdout",
     "output_type": "stream",
     "text": [
      "                                        UID  \\\n",
      "0  0000DF74B811298E7996D362F838C50350D17CA8   \n",
      "1  0003838B85827FE9BD3FC99F3E899242013CBEBA   \n",
      "2  0008066764A0E935659492B10A486D4EBE09AF08   \n",
      "3  000EC867960E20845A09FCC5FD412B0E28825B7C   \n",
      "4  002257471042A6CF612F151CD78C68812E1BC87E   \n",
      "\n",
      "                                Hospital_ID  Sex   Age   AF   DM  HTN  \\\n",
      "0  39FAF362A02156E2E9692C7FF1143C6719B39477  1.0  62.0  0.0  1.0  0.0   \n",
      "1  AF62D5193B84B1C154DEAD3D5ECA2D0B9A34107D  1.0  81.0  1.0  0.0  1.0   \n",
      "2  DC6E8FE8E1CD827B38415DF485BDA51791A9F0ED  0.0  80.0  0.0  1.0  0.0   \n",
      "3  C6B3DC2C6B2831B2762B6238756438365E036FEA  1.0  82.0  0.0  1.0  1.0   \n",
      "4  41F75C287201660F2A29F575E88CE6525F42AD59  1.0  89.0  0.0  0.0  1.0   \n",
      "\n",
      "   Hyperlipidemia  CHF  Smoking  ...  RRSD G     RR CV  RRCV G  Mortality  \\\n",
      "0             0.0  0.0      1.0  ...     2.0  0.078459     2.0        0.0   \n",
      "1             1.0  0.0      0.0  ...     3.0  0.146458     4.0        0.0   \n",
      "2             1.0  0.0      0.0  ...     2.0  0.074754     2.0        0.0   \n",
      "3             0.0  0.0      1.0  ...     1.0  0.034015     1.0        0.0   \n",
      "4             0.0  0.0      0.0  ...     4.0  0.178538     5.0        1.0   \n",
      "\n",
      "   SurvivalWeeks  admission_date  discharge_date  death_date  CVDeath  \\\n",
      "0     360.857143        20120131        20120206  20181231.0      0.0   \n",
      "1     146.857143        20160308        20160316  20181231.0      0.0   \n",
      "2     184.000000        20150622        20150627  20181231.0      0.0   \n",
      "3      99.285714        20170204        20170210  20181231.0      0.0   \n",
      "4       5.285714        20101015        20101112  20101121.0      0.0   \n",
      "\n",
      "   duration  \n",
      "0         6  \n",
      "1         8  \n",
      "2         5  \n",
      "3         6  \n",
      "4        28  \n",
      "\n",
      "[5 rows x 52 columns]\n"
     ]
    }
   ],
   "source": [
    "import pandas as pd\n",
    "import numpy as np\n",
    "import os\n",
    "\n",
    "ex_data = pd.read_csv(os.path.join('..', '..', 'data', 'tidy_Stroke_Vital_Sign.csv'))\n",
    "\n",
    "ex_data['admission_date'] = ex_data['admission_date'].astype(int).astype(str)\n",
    "in_date = pd.to_datetime(ex_data['admission_date'], format='%Y/%m/%d', errors='coerce')\n",
    "\n",
    "ex_data['discharge_date'] = ex_data['discharge_date'].astype(int).astype(str)\n",
    "out_date = pd.to_datetime(ex_data['discharge_date'], format='%Y/%m/%d', errors='coerce')\n",
    "\n",
    "day_diff = out_date - in_date\n",
    "ex_data['duration'] = day_diff.dt.days\n",
    "\n",
    "\n",
    "print(ex_data.head())"
   ]
  },
  {
   "cell_type": "code",
   "execution_count": 8,
   "metadata": {},
   "outputs": [],
   "source": [
    "y_data = ex_data[['SurvivalWeeks']]\n",
    "X_data = ex_data.drop(['UID', 'Hospital_ID', 'admission_date', 'discharge_date',\n",
    "                       'Mortality', 'CVDeath', 'death_date', 'SurvivalWeeks'], axis=1)\n",
    "\n",
    "categorical_columns = ['Sex', 'AF', 'DM', 'HTN', 'Hyperlipidemia', 'CHF', 'Smoking', 'Cancer before adm', 'Foley', 'ICU']\n",
    "numerical_columns =  np.setdiff1d(X_data.columns, categorical_columns)\n"
   ]
  },
  {
   "cell_type": "markdown",
   "metadata": {},
   "source": [
    "# Regression-Week"
   ]
  },
  {
   "cell_type": "code",
   "execution_count": 9,
   "metadata": {},
   "outputs": [
    {
     "name": "stdout",
     "output_type": "stream",
     "text": [
      "(13623, 54) (13623, 1)\n",
      "R-squ 0.1553380551626291\n",
      "R-squ 0.16954192015334246\n",
      "R-squ 0.15828824464905744\n",
      "R-squ 0.15792394152899714\n",
      "R-squ 0.14911167446684004\n",
      "R-squ 0.17798833697140592\n",
      "R-squ 0.1302273703165614\n",
      "R-squ 0.17127899396122148\n",
      "R-squ 0.1704754474780824\n",
      "R-squ 0.16150192136248487\n"
     ]
    }
   ],
   "source": [
    "from sklearn.model_selection import KFold\n",
    "from sklearn import preprocessing\n",
    "from sklearn.ensemble import ExtraTreesRegressor\n",
    "\n",
    "# one-hot\n",
    "X_data_one_hot = pd.get_dummies(X_data, columns=categorical_columns)\n",
    "print(X_data_one_hot.shape, y_data.shape)\n",
    "# for i in range(10):\n",
    "#     X_train, X_test, y_train, y_test = train_test_split(X_data, y_data, test_size=0.1, random_state=i, stratify=y_data)\n",
    "for train_index, test_index in KFold(n_splits=10, random_state=42, shuffle=True).split(X_data_one_hot):\n",
    "    X_train, X_test = X_data_one_hot.iloc[train_index], X_data_one_hot.iloc[test_index]\n",
    "    y_train, y_test = y_data.iloc[train_index], y_data.iloc[test_index]\n",
    "    # scaling\n",
    "    # scaler = preprocessing.MinMaxScaler()\n",
    "    scaler = preprocessing.StandardScaler()\n",
    "    X_train = scaler.fit_transform(X_train)\n",
    "    X_test = scaler.transform(X_test)\n",
    "    reg = ExtraTreesRegressor(n_estimators=200, random_state=0).fit(X_train, y_train.values.ravel())\n",
    "    print('R-squ', reg.score(X_test, y_test.values.ravel()))"
   ]
  },
  {
   "cell_type": "code",
   "execution_count": 10,
   "metadata": {},
   "outputs": [
    {
     "name": "stdout",
     "output_type": "stream",
     "text": [
      "(13623, 44) (13623, 1)\n",
      "R-squ 0.1332115090894591\n",
      "R-squ 0.1618281236564043\n",
      "R-squ 0.13906027670111476\n",
      "R-squ 0.1493874504154985\n",
      "R-squ 0.13785679159707376\n",
      "R-squ 0.17231037133872296\n",
      "R-squ 0.15349416805873684\n",
      "R-squ 0.14516059459780783\n",
      "R-squ 0.14128846315715116\n",
      "R-squ 0.15892777481643128\n"
     ]
    }
   ],
   "source": [
    "# dummy\n",
    "X_data_dummy = pd.get_dummies(X_data, columns=categorical_columns, drop_first=True)\n",
    "print(X_data_dummy.shape, y_data.shape)\n",
    "\n",
    "from sklearn import linear_model\n",
    "for train_index, test_index in KFold(n_splits=10, random_state=42, shuffle=True).split(X_data_one_hot):\n",
    "    X_train, X_test = X_data_one_hot.iloc[train_index], X_data_one_hot.iloc[test_index]\n",
    "    y_train, y_test = y_data.iloc[train_index], y_data.iloc[test_index]\n",
    "    # scaling\n",
    "    # scaler = preprocessing.MinMaxScaler()\n",
    "    scaler = preprocessing.StandardScaler()\n",
    "    X_train = scaler.fit_transform(X_train)\n",
    "    X_test = scaler.transform(X_test)\n",
    "    clf = linear_model.Lasso(alpha=0.1).fit(X_train, y_train.values.ravel())\n",
    "    print('R-squ', clf.score(X_test, y_test.values.ravel()))"
   ]
  },
  {
   "cell_type": "markdown",
   "metadata": {},
   "source": [
    "# Regression-Month"
   ]
  },
  {
   "cell_type": "code",
   "execution_count": 11,
   "metadata": {},
   "outputs": [
    {
     "data": {
      "text/html": [
       "<div>\n",
       "<style scoped>\n",
       "    .dataframe tbody tr th:only-of-type {\n",
       "        vertical-align: middle;\n",
       "    }\n",
       "\n",
       "    .dataframe tbody tr th {\n",
       "        vertical-align: top;\n",
       "    }\n",
       "\n",
       "    .dataframe thead th {\n",
       "        text-align: right;\n",
       "    }\n",
       "</style>\n",
       "<table border=\"1\" class=\"dataframe\">\n",
       "  <thead>\n",
       "    <tr style=\"text-align: right;\">\n",
       "      <th></th>\n",
       "      <th>SurvivalWeeks</th>\n",
       "    </tr>\n",
       "  </thead>\n",
       "  <tbody>\n",
       "    <tr>\n",
       "      <th>0</th>\n",
       "      <td>90.0</td>\n",
       "    </tr>\n",
       "    <tr>\n",
       "      <th>1</th>\n",
       "      <td>37.0</td>\n",
       "    </tr>\n",
       "    <tr>\n",
       "      <th>2</th>\n",
       "      <td>46.0</td>\n",
       "    </tr>\n",
       "    <tr>\n",
       "      <th>3</th>\n",
       "      <td>25.0</td>\n",
       "    </tr>\n",
       "    <tr>\n",
       "      <th>4</th>\n",
       "      <td>1.0</td>\n",
       "    </tr>\n",
       "    <tr>\n",
       "      <th>...</th>\n",
       "      <td>...</td>\n",
       "    </tr>\n",
       "    <tr>\n",
       "      <th>13618</th>\n",
       "      <td>1.0</td>\n",
       "    </tr>\n",
       "    <tr>\n",
       "      <th>13619</th>\n",
       "      <td>55.0</td>\n",
       "    </tr>\n",
       "    <tr>\n",
       "      <th>13620</th>\n",
       "      <td>23.0</td>\n",
       "    </tr>\n",
       "    <tr>\n",
       "      <th>13621</th>\n",
       "      <td>62.0</td>\n",
       "    </tr>\n",
       "    <tr>\n",
       "      <th>13622</th>\n",
       "      <td>40.0</td>\n",
       "    </tr>\n",
       "  </tbody>\n",
       "</table>\n",
       "<p>13623 rows × 1 columns</p>\n",
       "</div>"
      ],
      "text/plain": [
       "       SurvivalWeeks\n",
       "0               90.0\n",
       "1               37.0\n",
       "2               46.0\n",
       "3               25.0\n",
       "4                1.0\n",
       "...              ...\n",
       "13618            1.0\n",
       "13619           55.0\n",
       "13620           23.0\n",
       "13621           62.0\n",
       "13622           40.0\n",
       "\n",
       "[13623 rows x 1 columns]"
      ]
     },
     "execution_count": 11,
     "metadata": {},
     "output_type": "execute_result"
    }
   ],
   "source": [
    "y_data_m = (y_data/4).round(0)\n",
    "y_data_m"
   ]
  },
  {
   "cell_type": "code",
   "execution_count": 12,
   "metadata": {},
   "outputs": [
    {
     "name": "stdout",
     "output_type": "stream",
     "text": [
      "R-squ 0.12855039181390115\n",
      "R-squ 0.16003132821103772\n",
      "R-squ 0.13676661669926005\n",
      "R-squ 0.1488674762650497\n",
      "R-squ 0.13755439919647683\n",
      "R-squ 0.1676386340543109\n",
      "R-squ 0.15209491831047606\n",
      "R-squ 0.14198010627381197\n",
      "R-squ 0.14236784831065674\n",
      "R-squ 0.15374807920950417\n"
     ]
    }
   ],
   "source": [
    "# one-hot\n",
    "X_data_one_hot = pd.get_dummies(X_data, columns=categorical_columns)\n",
    "# for i in range(10):\n",
    "#     X_train, X_test, y_train, y_test = train_test_split(X_data, y_data, test_size=0.1, random_state=i, stratify=y_data)\n",
    "for train_index, test_index in KFold(n_splits=10, random_state=42, shuffle=True).split(X_data_one_hot):\n",
    "    X_train, X_test = X_data_one_hot.iloc[train_index], X_data_one_hot.iloc[test_index]\n",
    "    y_train, y_test = y_data_m.iloc[train_index], y_data_m.iloc[test_index]\n",
    "    # scaling\n",
    "    # scaler = preprocessing.MinMaxScaler()\n",
    "    scaler = preprocessing.StandardScaler()\n",
    "    X_train = scaler.fit_transform(X_train)\n",
    "    X_test = scaler.transform(X_test)\n",
    "    clf = linear_model.Lasso(alpha=0.1).fit(X_train, y_train.values.ravel())\n",
    "    print('R-squ', clf.score(X_test, y_test.values.ravel()))"
   ]
  },
  {
   "cell_type": "markdown",
   "metadata": {},
   "source": [
    "# 6-Month Mortality (Binary classification)"
   ]
  },
  {
   "cell_type": "code",
   "execution_count": 13,
   "metadata": {},
   "outputs": [
    {
     "name": "stdout",
     "output_type": "stream",
     "text": [
      "       SurvivalWeeks\n",
      "0                  0\n",
      "1                  0\n",
      "2                  0\n",
      "3                  0\n",
      "4                  1\n",
      "...              ...\n",
      "13618              1\n",
      "13619              0\n",
      "13620              0\n",
      "13621              0\n",
      "13622              0\n",
      "\n",
      "[13623 rows x 1 columns]\n",
      "SurvivalWeeks\n",
      "0    12834\n",
      "1      789\n",
      "dtype: int64\n"
     ]
    }
   ],
   "source": [
    "y_data_od = (y_data<24).astype(int)\n",
    "print(y_data_od)\n",
    "print(y_data_od.groupby(['SurvivalWeeks']).size())"
   ]
  },
  {
   "cell_type": "code",
   "execution_count": 14,
   "metadata": {},
   "outputs": [
    {
     "name": "stdout",
     "output_type": "stream",
     "text": [
      "auc 0.8643354668674699\n",
      "auc 0.9092935414245392\n",
      "auc 0.8796466691203534\n",
      "auc 0.8910999745659731\n",
      "auc 0.8675871847236494\n",
      "auc 0.8749232626667758\n",
      "auc 0.8746925238380395\n",
      "auc 0.8541545162936501\n",
      "auc 0.8998523246951219\n",
      "auc 0.8600852272727272\n",
      "0.8775670691468298 0.016835541170404447\n"
     ]
    }
   ],
   "source": [
    "from sklearn.ensemble import ExtraTreesClassifier\n",
    "from imblearn import over_sampling\n",
    "from sklearn.metrics import auc, roc_curve\n",
    "\n",
    "all_auroc = []\n",
    "for train_index, test_index in KFold(n_splits=10, random_state=42, shuffle=True).split(X_data_one_hot):\n",
    "    X_train, X_test = X_data_one_hot.iloc[train_index], X_data_one_hot.iloc[test_index]\n",
    "    y_train, y_test = y_data_od.iloc[train_index], y_data_od.iloc[test_index]\n",
    "    \n",
    "    # scaling\n",
    "    scaler = preprocessing.MinMaxScaler()\n",
    "    X_train = scaler.fit_transform(X_train)\n",
    "    X_test = scaler.transform(X_test)\n",
    "\n",
    "    # over-sampling\n",
    "    # print('before', y_train.groupby(['SurvivalWeeks']).size())\n",
    "    sm = over_sampling.SVMSMOTE(random_state=42)\n",
    "    X_train, y_train = sm.fit_resample(X_train, y_train)\n",
    "    # print('after', y_train.groupby(['SurvivalWeeks']).size())\n",
    "\n",
    "    # define the model\n",
    "    model = ExtraTreesClassifier(n_estimators=250,  random_state=42)\n",
    "    model.fit(X_train, y_train.values.ravel())\n",
    "    y_pred = model.predict_proba(X_test)\n",
    "    fpr, tpr, thresholds = roc_curve(y_test, y_pred[:, 1])\n",
    "    auroc = auc(fpr, tpr)\n",
    "    print('auc', auroc)\n",
    "    all_auroc.append(auroc)\n",
    "print(np.mean(all_auroc), np.std(all_auroc))"
   ]
  },
  {
   "cell_type": "code",
   "execution_count": null,
   "metadata": {},
   "outputs": [],
   "source": []
  }
 ],
 "metadata": {
  "kernelspec": {
   "display_name": "Python 3",
   "language": "python",
   "name": "python3"
  },
  "language_info": {
   "codemirror_mode": {
    "name": "ipython",
    "version": 3
   },
   "file_extension": ".py",
   "mimetype": "text/x-python",
   "name": "python",
   "nbconvert_exporter": "python",
   "pygments_lexer": "ipython3",
   "version": "3.8.5"
  }
 },
 "nbformat": 4,
 "nbformat_minor": 4
}