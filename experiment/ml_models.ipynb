{
 "cells": [
  {
   "cell_type": "code",
   "execution_count": 1,
   "metadata": {},
   "outputs": [
    {
     "name": "stdout",
     "output_type": "stream",
     "text": [
      "                                         ID  \\\n",
      "0  0000DF74B811298E7996D362F838C50350D17CA8   \n",
      "1  0003838B85827FE9BD3FC99F3E899242013CBEBA   \n",
      "2  0008066764A0E935659492B10A486D4EBE09AF08   \n",
      "3  1B5DB5B8DF80AD37539AFB7F3D0A19154CC4B3EA   \n",
      "4  000EC867960E20845A09FCC5FD412B0E28825B7C   \n",
      "\n",
      "                                     CHT_NO admin_date discharge_date  Sex  \\\n",
      "0  39FAF362A02156E2E9692C7FF1143C6719B39477   20120131       20120206  1.0   \n",
      "1  AF62D5193B84B1C154DEAD3D5ECA2D0B9A34107D   20160308       20160316  1.0   \n",
      "2  DC6E8FE8E1CD827B38415DF485BDA51791A9F0ED   20150622       20150627  0.0   \n",
      "3  C6A772EC2E08E5F456F148D9E89BA0735D97E27C   20160607       20160615  1.0   \n",
      "4  C6B3DC2C6B2831B2762B6238756438365E036FEA   20170204       20170210  1.0   \n",
      "\n",
      "    Age   AF   DM  HTN  Dyslipidemia  ...  MeanRR G  RR SD  RRSD G  RR CV  \\\n",
      "0  62.0  0.0  1.0  0.0           0.0  ...       2.0    1.3     2.0   0.08   \n",
      "1  81.0  1.0  0.0  1.0           1.0  ...       2.0    2.4     3.0   0.15   \n",
      "2  80.0  0.0  1.0  0.0           1.0  ...       3.0    1.3     2.0   0.07   \n",
      "3  18.0  0.0  0.0  0.0           0.0  ...       2.0    0.9     1.0   0.05   \n",
      "4  82.0  0.0  1.0  1.0           0.0  ...       4.0    0.6     1.0   0.03   \n",
      "\n",
      "   RRCV G  AllMortality  CVDeath    Death Date  SurvivalWeeks  duration  \n",
      "0     2.0           0.0        0.0  2018/12/31          360.9         6  \n",
      "1     4.0           0.0        0.0  2018/12/31          146.9         8  \n",
      "2     2.0           0.0        0.0  2018/12/31          184.0         5  \n",
      "3     2.0           0.0        0.0  2018/12/31          133.9         8  \n",
      "4     1.0           0.0        0.0  2018/12/31           99.3         6  \n",
      "\n",
      "[5 rows x 50 columns]\n"
     ]
    }
   ],
   "source": [
    "import pandas as pd\n",
    "import numpy as np\n",
    "import os\n",
    "\n",
    "ex_data = pd.read_csv(os.path.join('..', 'data', 'ex_data.csv'))\n",
    "\n",
    "ex_data['admin_date'] = ex_data['admin_date'].astype(int).astype(str)\n",
    "in_date = pd.to_datetime(ex_data['admin_date'], format='%Y/%m/%d', errors='coerce')\n",
    "\n",
    "ex_data['discharge_date'] = ex_data['discharge_date'].astype(int).astype(str)\n",
    "out_date = pd.to_datetime(ex_data['discharge_date'], format='%Y/%m/%d', errors='coerce')\n",
    "\n",
    "day_diff = out_date - in_date\n",
    "ex_data['duration'] = day_diff.dt.days\n",
    "\n",
    "\n",
    "print(ex_data.head())"
   ]
  },
  {
   "cell_type": "code",
   "execution_count": 2,
   "metadata": {},
   "outputs": [],
   "source": [
    "y_data = ex_data[['SurvivalWeeks']]\n",
    "X_data = ex_data.drop(['ID', 'CHT_NO', 'admin_date', 'discharge_date',\n",
    "                       'AllMortality', 'CVDeath  ', 'Death Date', 'SurvivalWeeks'], axis=1)\n",
    "\n",
    "categorical_columns = ['Sex', 'AF', 'DM', 'HTN', 'Dyslipidemia', 'CHF', 'Smoking', 'Cancer before adm']\n",
    "numerical_columns =  np.setdiff1d(X_data.columns, categorical_columns)\n"
   ]
  },
  {
   "cell_type": "markdown",
   "metadata": {},
   "source": [
    "# Regression-Week"
   ]
  },
  {
   "cell_type": "code",
   "execution_count": 3,
   "metadata": {},
   "outputs": [
    {
     "name": "stdout",
     "output_type": "stream",
     "text": [
      "(13244, 50) (13244, 1)\n",
      "R-squ 0.1484765645386844\n",
      "R-squ 0.11860279843772992\n",
      "R-squ 0.11025565297853568\n",
      "R-squ 0.13683069293158467\n",
      "R-squ 0.1263900775891117\n",
      "R-squ 0.10818910346175903\n",
      "R-squ 0.07830673454536752\n",
      "R-squ 0.11960401011451116\n",
      "R-squ 0.1269539491262609\n",
      "R-squ 0.11594733648771172\n"
     ]
    }
   ],
   "source": [
    "from sklearn.model_selection import KFold\n",
    "from sklearn import preprocessing\n",
    "from sklearn.ensemble import ExtraTreesRegressor\n",
    "\n",
    "# one-hot\n",
    "X_data_one_hot = pd.get_dummies(X_data, columns=categorical_columns)\n",
    "print(X_data_one_hot.shape, y_data.shape)\n",
    "# for i in range(10):\n",
    "#     X_train, X_test, y_train, y_test = train_test_split(X_data, y_data, test_size=0.1, random_state=i, stratify=y_data)\n",
    "for train_index, test_index in KFold(n_splits=10, random_state=42, shuffle=True).split(X_data_one_hot):\n",
    "    X_train, X_test = X_data_one_hot.iloc[train_index], X_data_one_hot.iloc[test_index]\n",
    "    y_train, y_test = y_data.iloc[train_index], y_data.iloc[test_index]\n",
    "    # scaling\n",
    "    # scaler = preprocessing.MinMaxScaler()\n",
    "    scaler = preprocessing.StandardScaler()\n",
    "    X_train = scaler.fit_transform(X_train)\n",
    "    X_test = scaler.transform(X_test)\n",
    "    reg = ExtraTreesRegressor(n_estimators=200, random_state=0).fit(X_train, y_train.values.ravel())\n",
    "    print('R-squ', reg.score(X_test, y_test.values.ravel()))"
   ]
  },
  {
   "cell_type": "code",
   "execution_count": 4,
   "metadata": {},
   "outputs": [
    {
     "name": "stdout",
     "output_type": "stream",
     "text": [
      "(13244, 42) (13244, 1)\n",
      "R-squ 0.11137738108331763\n",
      "R-squ 0.09244164380468889\n",
      "R-squ 0.10276383902240005\n",
      "R-squ 0.11980129623048041\n",
      "R-squ 0.13100962408021632\n",
      "R-squ 0.0975574765975612\n",
      "R-squ 0.09532068482119982\n",
      "R-squ 0.10722445803144387\n",
      "R-squ 0.1131203977765145\n",
      "R-squ 0.10825343956912048\n"
     ]
    }
   ],
   "source": [
    "# dummy\n",
    "X_data_dummy = pd.get_dummies(X_data, columns=categorical_columns, drop_first=True)\n",
    "print(X_data_dummy.shape, y_data.shape)\n",
    "\n",
    "from sklearn import linear_model\n",
    "for train_index, test_index in KFold(n_splits=10, random_state=42, shuffle=True).split(X_data_one_hot):\n",
    "    X_train, X_test = X_data_one_hot.iloc[train_index], X_data_one_hot.iloc[test_index]\n",
    "    y_train, y_test = y_data.iloc[train_index], y_data.iloc[test_index]\n",
    "    # scaling\n",
    "    # scaler = preprocessing.MinMaxScaler()\n",
    "    scaler = preprocessing.StandardScaler()\n",
    "    X_train = scaler.fit_transform(X_train)\n",
    "    X_test = scaler.transform(X_test)\n",
    "    clf = linear_model.Lasso(alpha=0.1).fit(X_train, y_train.values.ravel())\n",
    "    print('R-squ', clf.score(X_test, y_test.values.ravel()))"
   ]
  },
  {
   "cell_type": "markdown",
   "metadata": {},
   "source": [
    "# Regression-Month"
   ]
  },
  {
   "cell_type": "code",
   "execution_count": 5,
   "metadata": {},
   "outputs": [
    {
     "data": {
      "text/html": [
       "<div>\n",
       "<style scoped>\n",
       "    .dataframe tbody tr th:only-of-type {\n",
       "        vertical-align: middle;\n",
       "    }\n",
       "\n",
       "    .dataframe tbody tr th {\n",
       "        vertical-align: top;\n",
       "    }\n",
       "\n",
       "    .dataframe thead th {\n",
       "        text-align: right;\n",
       "    }\n",
       "</style>\n",
       "<table border=\"1\" class=\"dataframe\">\n",
       "  <thead>\n",
       "    <tr style=\"text-align: right;\">\n",
       "      <th></th>\n",
       "      <th>SurvivalWeeks</th>\n",
       "    </tr>\n",
       "  </thead>\n",
       "  <tbody>\n",
       "    <tr>\n",
       "      <th>0</th>\n",
       "      <td>90.0</td>\n",
       "    </tr>\n",
       "    <tr>\n",
       "      <th>1</th>\n",
       "      <td>37.0</td>\n",
       "    </tr>\n",
       "    <tr>\n",
       "      <th>2</th>\n",
       "      <td>46.0</td>\n",
       "    </tr>\n",
       "    <tr>\n",
       "      <th>3</th>\n",
       "      <td>33.0</td>\n",
       "    </tr>\n",
       "    <tr>\n",
       "      <th>4</th>\n",
       "      <td>25.0</td>\n",
       "    </tr>\n",
       "    <tr>\n",
       "      <th>...</th>\n",
       "      <td>...</td>\n",
       "    </tr>\n",
       "    <tr>\n",
       "      <th>13239</th>\n",
       "      <td>6.0</td>\n",
       "    </tr>\n",
       "    <tr>\n",
       "      <th>13240</th>\n",
       "      <td>55.0</td>\n",
       "    </tr>\n",
       "    <tr>\n",
       "      <th>13241</th>\n",
       "      <td>23.0</td>\n",
       "    </tr>\n",
       "    <tr>\n",
       "      <th>13242</th>\n",
       "      <td>62.0</td>\n",
       "    </tr>\n",
       "    <tr>\n",
       "      <th>13243</th>\n",
       "      <td>40.0</td>\n",
       "    </tr>\n",
       "  </tbody>\n",
       "</table>\n",
       "<p>13244 rows × 1 columns</p>\n",
       "</div>"
      ],
      "text/plain": [
       "       SurvivalWeeks\n",
       "0               90.0\n",
       "1               37.0\n",
       "2               46.0\n",
       "3               33.0\n",
       "4               25.0\n",
       "...              ...\n",
       "13239            6.0\n",
       "13240           55.0\n",
       "13241           23.0\n",
       "13242           62.0\n",
       "13243           40.0\n",
       "\n",
       "[13244 rows x 1 columns]"
      ]
     },
     "execution_count": 5,
     "metadata": {},
     "output_type": "execute_result"
    }
   ],
   "source": [
    "y_data_m = (y_data/4).round(0)\n",
    "y_data_m"
   ]
  },
  {
   "cell_type": "code",
   "execution_count": 6,
   "metadata": {},
   "outputs": [
    {
     "name": "stdout",
     "output_type": "stream",
     "text": [
      "R-squ 0.10768038921043621\n",
      "R-squ 0.09105650133900467\n",
      "R-squ 0.10504955774132863\n",
      "R-squ 0.11948521809943768\n",
      "R-squ 0.12691236514332194\n",
      "R-squ 0.09763268099439615\n",
      "R-squ 0.0965080840097422\n",
      "R-squ 0.11035254626269642\n",
      "R-squ 0.11196797571086059\n",
      "R-squ 0.10618049990025513\n"
     ]
    }
   ],
   "source": [
    "# one-hot\n",
    "X_data_one_hot = pd.get_dummies(X_data, columns=categorical_columns)\n",
    "# for i in range(10):\n",
    "#     X_train, X_test, y_train, y_test = train_test_split(X_data, y_data, test_size=0.1, random_state=i, stratify=y_data)\n",
    "for train_index, test_index in KFold(n_splits=10, random_state=42, shuffle=True).split(X_data_one_hot):\n",
    "    X_train, X_test = X_data_one_hot.iloc[train_index], X_data_one_hot.iloc[test_index]\n",
    "    y_train, y_test = y_data_m.iloc[train_index], y_data_m.iloc[test_index]\n",
    "    # scaling\n",
    "    # scaler = preprocessing.MinMaxScaler()\n",
    "    scaler = preprocessing.StandardScaler()\n",
    "    X_train = scaler.fit_transform(X_train)\n",
    "    X_test = scaler.transform(X_test)\n",
    "    clf = linear_model.Lasso(alpha=0.1).fit(X_train, y_train.values.ravel())\n",
    "    print('R-squ', clf.score(X_test, y_test.values.ravel()))"
   ]
  },
  {
   "cell_type": "markdown",
   "metadata": {},
   "source": [
    "# 6-Month Mortality (Binary classification)"
   ]
  },
  {
   "cell_type": "code",
   "execution_count": 9,
   "metadata": {},
   "outputs": [
    {
     "name": "stdout",
     "output_type": "stream",
     "text": [
      "       SurvivalWeeks\n",
      "0                  0\n",
      "1                  0\n",
      "2                  0\n",
      "3                  0\n",
      "4                  0\n",
      "...              ...\n",
      "13239              0\n",
      "13240              0\n",
      "13241              0\n",
      "13242              0\n",
      "13243              0\n",
      "\n",
      "[13244 rows x 1 columns]\n",
      "SurvivalWeeks\n",
      "0    12834\n",
      "1      410\n",
      "dtype: int64\n"
     ]
    }
   ],
   "source": [
    "y_data_od = (y_data<24).astype(int)\n",
    "print(y_data_od)\n",
    "print(y_data_od.groupby(['SurvivalWeeks']).size())"
   ]
  },
  {
   "cell_type": "code",
   "execution_count": 10,
   "metadata": {},
   "outputs": [
    {
     "name": "stdout",
     "output_type": "stream",
     "text": [
      "auc 0.8409791040344431\n",
      "auc 0.8153142129992168\n",
      "auc 0.7969055309646289\n",
      "auc 0.790996988716758\n",
      "auc 0.8362677364237427\n",
      "auc 0.7625314916167144\n",
      "auc 0.8036137710898312\n",
      "auc 0.8347823347823347\n",
      "auc 0.8217497100925802\n",
      "auc 0.838242043300409\n",
      "0.8141382924020659 0.02425518637866377\n"
     ]
    }
   ],
   "source": [
    "from sklearn.ensemble import ExtraTreesClassifier\n",
    "from imblearn import over_sampling\n",
    "from sklearn.metrics import auc, roc_curve\n",
    "\n",
    "all_auroc = []\n",
    "for train_index, test_index in KFold(n_splits=10, random_state=42, shuffle=True).split(X_data_one_hot):\n",
    "    X_train, X_test = X_data_one_hot.iloc[train_index], X_data_one_hot.iloc[test_index]\n",
    "    y_train, y_test = y_data_od.iloc[train_index], y_data_od.iloc[test_index]\n",
    "    \n",
    "    # scaling\n",
    "    scaler = preprocessing.MinMaxScaler()\n",
    "    X_train = scaler.fit_transform(X_train)\n",
    "    X_test = scaler.transform(X_test)\n",
    "\n",
    "    # over-sampling\n",
    "    # print('before', y_train.groupby(['SurvivalWeeks']).size())\n",
    "    sm = over_sampling.SVMSMOTE(random_state=42)\n",
    "    X_train, y_train = sm.fit_resample(X_train, y_train)\n",
    "    # print('after', y_train.groupby(['SurvivalWeeks']).size())\n",
    "\n",
    "    # define the model\n",
    "    model = ExtraTreesClassifier(n_estimators=250,  random_state=42)\n",
    "    model.fit(X_train, y_train.values.ravel())\n",
    "    y_pred = model.predict_proba(X_test)\n",
    "    fpr, tpr, thresholds = roc_curve(y_test, y_pred[:, 1])\n",
    "    auroc = auc(fpr, tpr)\n",
    "    print('auc', auroc)\n",
    "    all_auroc.append(auroc)\n",
    "print(np.mean(all_auroc), np.std(all_auroc))"
   ]
  },
  {
   "cell_type": "code",
   "execution_count": null,
   "metadata": {},
   "outputs": [],
   "source": []
  }
 ],
 "metadata": {
  "kernelspec": {
   "display_name": "Python 3",
   "language": "python",
   "name": "python3"
  },
  "language_info": {
   "codemirror_mode": {
    "name": "ipython",
    "version": 3
   },
   "file_extension": ".py",
   "mimetype": "text/x-python",
   "name": "python",
   "nbconvert_exporter": "python",
   "pygments_lexer": "ipython3",
   "version": "3.8.5"
  }
 },
 "nbformat": 4,
 "nbformat_minor": 4
}
