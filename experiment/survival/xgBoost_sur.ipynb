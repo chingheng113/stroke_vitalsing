{
 "cells": [
  {
   "cell_type": "code",
   "execution_count": 4,
   "metadata": {},
   "outputs": [],
   "source": [
    "import os\n",
    "import pandas as pd\n",
    "import numpy as np\n",
    "from sklearn.model_selection import train_test_split\n",
    "from sksurv.ensemble import ComponentwiseGradientBoostingSurvivalAnalysis\n",
    "from sksurv.ensemble import GradientBoostingSurvivalAnalysis\n",
    "import matplotlib.pyplot as plt"
   ]
  },
  {
   "cell_type": "code",
   "execution_count": 2,
   "metadata": {},
   "outputs": [
    {
     "name": "stderr",
     "output_type": "stream",
     "text": [
      "<ipython-input-2-99102b60bd71>:9: SettingWithCopyWarning: \n",
      "A value is trying to be set on a copy of a slice from a DataFrame.\n",
      "Try using .loc[row_indexer,col_indexer] = value instead\n",
      "\n",
      "See the caveats in the documentation: https://pandas.pydata.org/pandas-docs/stable/user_guide/indexing.html#returning-a-view-versus-a-copy\n",
      "  data_y['Mortality'] = data_y['Mortality'].astype(bool)\n"
     ]
    }
   ],
   "source": [
    "data = pd.read_csv(os.path.join('..', '..', 'data', 'tidy_Stroke_Vital_Sign.csv'))\n",
    "data_x = data.drop(['UID', 'Hospital_ID', 'SurvivalWeeks', 'admission_date',\n",
    "                    'discharge_date', 'death_date', 'Mortality', 'CVDeath'], axis=1)\n",
    "categorical_ix = [0, 2, 3, 4, 5, 6, 7, 8, 15, 16, 17]\n",
    "categorical_columns = data_x.columns[categorical_ix].values\n",
    "data_x_one_hot = pd.get_dummies(data_x, columns=categorical_columns)\n",
    "\n",
    "data_y = data[['Mortality', 'SurvivalWeeks']]\n",
    "data_y['Mortality'] = data_y['Mortality'].astype(bool)\n",
    "data_y = np.array(list(data_y.to_records(index=False)))"
   ]
  },
  {
   "cell_type": "code",
   "execution_count": 3,
   "metadata": {},
   "outputs": [],
   "source": [
    "X_train, X_test, y_train, y_test = train_test_split(\n",
    "    data_x_one_hot, data_y, test_size=0.25, random_state=369)"
   ]
  },
  {
   "cell_type": "markdown",
   "metadata": {},
   "source": [
    "# gradient boosting with regression tree base learner"
   ]
  },
  {
   "cell_type": "code",
   "execution_count": 6,
   "metadata": {},
   "outputs": [
    {
     "name": "stdout",
     "output_type": "stream",
     "text": [
      "0.8090954876647054\n"
     ]
    }
   ],
   "source": [
    "est_cph_tree = GradientBoostingSurvivalAnalysis(\n",
    "    n_estimators=100, learning_rate=1.0, max_depth=1, random_state=0\n",
    ")\n",
    "est_cph_tree.fit(X_train, y_train)\n",
    "print(est_cph_tree.score(X_test, y_test))"
   ]
  },
  {
   "cell_type": "markdown",
   "metadata": {},
   "source": [
    "# component-wise least squares as base learner"
   ]
  },
  {
   "cell_type": "code",
   "execution_count": 8,
   "metadata": {},
   "outputs": [
    {
     "name": "stdout",
     "output_type": "stream",
     "text": [
      "0.7843464054391476\n"
     ]
    }
   ],
   "source": [
    "est_cph_ls = ComponentwiseGradientBoostingSurvivalAnalysis(\n",
    "    n_estimators=100, learning_rate=1.0, random_state=0\n",
    ")\n",
    "est_cph_ls.fit(X_train, y_train)\n",
    "print(est_cph_ls.score(X_test, y_test))"
   ]
  },
  {
   "cell_type": "code",
   "execution_count": 12,
   "metadata": {},
   "outputs": [
    {
     "name": "stdout",
     "output_type": "stream",
     "text": [
      "Number of non-zero coefficients: 11\n"
     ]
    },
    {
     "data": {
      "text/plain": [
       "NG_1.0                   0.961946\n",
       "Cancer before adm_1.0    0.852906\n",
       "Foley_1.0                0.456165\n",
       "AF_1.0                   0.355294\n",
       "Hyperlipidemia_1.0      -0.344887\n",
       "CHF_1.0                  0.165050\n",
       "ICU_1.0                  0.109270\n",
       "MeanHR G                 0.106922\n",
       "DM_1.0                   0.054483\n",
       "Age                      0.016088\n",
       "MPsum                   -0.006751\n",
       "dtype: float64"
      ]
     },
     "execution_count": 12,
     "metadata": {},
     "output_type": "execute_result"
    }
   ],
   "source": [
    "coef = pd.Series(est_cph_ls.coef_, [\"Intercept\"] + data_x_one_hot.columns.tolist())\n",
    "\n",
    "print(\"Number of non-zero coefficients:\", (coef != 0).sum())\n",
    "coef_nz = coef[coef != 0]\n",
    "coef_order = coef_nz.abs().sort_values(ascending=False).index\n",
    "coef_nz.loc[coef_order]"
   ]
  },
  {
   "cell_type": "code",
   "execution_count": null,
   "metadata": {},
   "outputs": [],
   "source": []
  }
 ],
 "metadata": {
  "kernelspec": {
   "display_name": "Python 3",
   "language": "python",
   "name": "python3"
  },
  "language_info": {
   "codemirror_mode": {
    "name": "ipython",
    "version": 3
   },
   "file_extension": ".py",
   "mimetype": "text/x-python",
   "name": "python",
   "nbconvert_exporter": "python",
   "pygments_lexer": "ipython3",
   "version": "3.8.5"
  }
 },
 "nbformat": 4,
 "nbformat_minor": 4
}
