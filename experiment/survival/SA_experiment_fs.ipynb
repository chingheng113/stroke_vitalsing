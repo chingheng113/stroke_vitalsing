{
 "cells": [
  {
   "cell_type": "markdown",
   "metadata": {},
   "source": [
    "## Include libraries"
   ]
  },
  {
   "cell_type": "code",
   "execution_count": 1,
   "metadata": {},
   "outputs": [],
   "source": [
    "import os\n",
    "import pandas as pd\n",
    "import numpy as np\n",
    "import random\n",
    "import matplotlib.pyplot as plt\n",
    "from sklearn.model_selection import train_test_split\n",
    "from sksurv.column import encode_categorical"
   ]
  },
  {
   "cell_type": "markdown",
   "metadata": {},
   "source": [
    "## dataset loading..."
   ]
  },
  {
   "cell_type": "code",
   "execution_count": 11,
   "metadata": {},
   "outputs": [],
   "source": [
    "surv_data = pd.read_csv(os.path.join('..', '..', 'data', '(v4)STROKE_VITAL_SIGN_missForest.csv'))"
   ]
  },
  {
   "cell_type": "markdown",
   "metadata": {},
   "source": [
    "## data preprocessing"
   ]
  },
  {
   "cell_type": "code",
   "execution_count": 12,
   "metadata": {},
   "outputs": [],
   "source": [
    "from sklearn import preprocessing\n",
    "from sklearn_pandas import DataFrameMapper\n",
    "\n",
    "def data_processing(data_df):\n",
    "    data_df_x = data_df.drop(['LOC', 'UID', 'Mortality', 'SurvivalDays', 'CVDeath', 'SurvivalMonths',\n",
    "                              'admission_date', 'discharge_date', 'death_date'], axis=1)\n",
    "\n",
    "    data_df_y = data_df[['Mortality', 'SurvivalDays']]\n",
    "\n",
    "    X_temp = data_df_x[(data_df.LOC == '3') | (data_df.LOC == '2') | (data_df.LOC == '6')]\n",
    "    y_temp = data_df_y[(data_df.LOC == '3') | (data_df.LOC == '2') | (data_df.LOC == '6')]\n",
    "    X_df_train, X_df_val, y_df_train, y_df_val = train_test_split(X_temp, y_temp, test_size=0.25, random_state=369)\n",
    "\n",
    "    X_df_test_kao = data_df_x[data_df.LOC == '8']\n",
    "    y_df_test_kao = data_df_y[data_df.LOC == '8']\n",
    "\n",
    "    categorical_columns = ['Sex', 'AF', 'DM', 'HTN', 'Dyslipidemia', 'CHF', 'Smoking',\n",
    "                           'Cancer.before.adm']\n",
    "    \n",
    "    numerical_columns = np.setdiff1d(data_df_x.columns, categorical_columns).tolist()\n",
    "\n",
    "    categorical_ix = [data_df_x.columns.get_loc(col) for col in categorical_columns]\n",
    "    numerical_ix =  np.setdiff1d(list(range(0, len(data_df_x.columns))), categorical_ix).tolist()\n",
    "\n",
    "    scaler = preprocessing.StandardScaler()\n",
    "\n",
    "    standardize = [([col], scaler) for col in numerical_columns]\n",
    "    leave = [(col, None) for col in categorical_columns]\n",
    "\n",
    "    x_mapper = DataFrameMapper(standardize + leave)\n",
    "\n",
    "    X_df_train = pd.DataFrame(data=x_mapper.fit_transform(X_df_train),\n",
    "                              columns=numerical_columns+categorical_columns,\n",
    "                              index=X_df_train.index)\n",
    "\n",
    "    X_df_val = pd.DataFrame(data=x_mapper.fit_transform(X_df_val),\n",
    "                            columns=numerical_columns+categorical_columns,\n",
    "                            index=X_df_val.index)\n",
    "\n",
    "    X_df_test_kao = pd.DataFrame(data=x_mapper.fit_transform(X_df_test_kao),\n",
    "                                 columns=numerical_columns+categorical_columns,\n",
    "                                 index=X_df_test_kao.index)\n",
    "    # since those categorical variable are all boolen... no need to one-hot them\n",
    "    # https://stackoverflow.com/questions/43515877/should-binary-features-be-one-hot-encoded\n",
    "    \n",
    "#     X_df_train = encode_categorical(X_df_train, columns=categorical_columns)\n",
    "#     X_df_val = encode_categorical(X_df_val, columns=categorical_columns)\n",
    "#     X_df_test_kao = encode_categorical(X_df_test_kao, columns=categorical_columns)\n",
    "    \n",
    "    return X_df_train, X_df_val, y_df_train, y_df_val, X_df_test_kao, y_df_test_kao\n",
    "\n",
    "\n",
    "get_target = lambda df: (df['SurvivalDays'].values, df['Mortality'].values)"
   ]
  },
  {
   "cell_type": "code",
   "execution_count": 13,
   "metadata": {},
   "outputs": [],
   "source": [
    "X_train, X_val, y_train, y_val, X_test_kao, y_test_kao = data_processing(surv_data)"
   ]
  },
  {
   "cell_type": "code",
   "execution_count": 40,
   "metadata": {},
   "outputs": [
    {
     "name": "stdout",
     "output_type": "stream",
     "text": [
      "            ALT       Age      CHOL       CKD   DBPCV.G    HRCV.G  Mean.PP.G  \\\n",
      "146   -0.617113 -0.400944  0.524164 -1.211742 -0.320314 -0.003625  -1.420171   \n",
      "671    0.094539  0.510618 -0.964399 -1.211742 -1.438132 -1.042963  -0.096977   \n",
      "2591   0.213148 -0.628834  0.710234  0.075247 -0.320314 -1.042963  -1.420171   \n",
      "16130  0.055003  0.510618  0.291576 -1.211742  0.797503  1.035713  -1.420171   \n",
      "15659 -0.142678 -0.173053  0.152023  0.075247  0.797503  2.075052   1.226216   \n",
      "...         ...       ...       ...       ...       ...       ...        ...   \n",
      "10536 -0.458968  0.282728 -0.569000  0.075247 -0.320314 -1.042963   1.226216   \n",
      "6468  -0.458968 -0.552871 -0.313153 -1.211742 -0.320314 -0.003625  -1.420171   \n",
      "2055   7.171525 -0.932688 -0.196859  0.075247 -0.320314 -1.042963   0.564619   \n",
      "386   -0.340359  1.270253 -0.313153  1.362235  0.797503 -0.003625   0.564619   \n",
      "10545  0.331757 -0.249017 -0.313153  1.362235 -0.320314 -0.003625  -0.096977   \n",
      "\n",
      "       Mean.SBP.G  MeanDBP.G  MeanHR.G  ...      eGFR    eNIHSS  Sex   AF  \\\n",
      "146     -1.703514  -1.887029 -0.824575  ...  1.524355 -0.551893  1.0  0.0   \n",
      "671      0.380216  -0.089348  0.076503  ...  1.449248 -0.551893  0.0  0.0   \n",
      "2591    -0.314361   0.809493  0.977580  ...  0.355893 -0.551893  1.0  0.0   \n",
      "16130   -1.703514  -0.988188  1.878658  ...  1.031926  2.220296  1.0  0.0   \n",
      "15659    1.074793  -0.089348 -0.824575  ... -0.346713 -0.551893  1.0  0.0   \n",
      "...           ...        ...       ...  ...       ...       ...  ...  ...   \n",
      "10536    1.074793  -0.988188 -0.824575  ...  0.013507 -0.551893  1.0  0.0   \n",
      "6468    -1.703514  -0.988188 -1.725652  ...  1.419312  2.220296  1.0  0.0   \n",
      "2055     1.074793   0.809493  0.977580  ... -0.097690 -0.551893  1.0  0.0   \n",
      "386      1.074793   0.809493  1.878658  ... -1.712071 -0.551893  0.0  1.0   \n",
      "10545   -0.314361  -0.089348  0.076503  ... -0.586390  0.834201  0.0  0.0   \n",
      "\n",
      "        DM  HTN  Dyslipidemia  CHF  Smoking  Cancer.before.adm  \n",
      "146    0.0  0.0           1.0  0.0      1.0                0.0  \n",
      "671    1.0  1.0           1.0  0.0      0.0                0.0  \n",
      "2591   0.0  0.0           1.0  0.0      1.0                0.0  \n",
      "16130  0.0  1.0           1.0  0.0      0.0                0.0  \n",
      "15659  0.0  1.0           1.0  0.0      1.0                0.0  \n",
      "...    ...  ...           ...  ...      ...                ...  \n",
      "10536  1.0  1.0           1.0  0.0      1.0                0.0  \n",
      "6468   0.0  1.0           0.0  0.0      1.0                0.0  \n",
      "2055   1.0  1.0           0.0  0.0      1.0                0.0  \n",
      "386    0.0  1.0           0.0  0.0      0.0                0.0  \n",
      "10545  1.0  1.0           0.0  0.0      0.0                0.0  \n",
      "\n",
      "[10895 rows x 25 columns]\n"
     ]
    }
   ],
   "source": [
    "print(X_train)"
   ]
  },
  {
   "cell_type": "markdown",
   "metadata": {},
   "source": [
    "## Feature selection"
   ]
  },
  {
   "cell_type": "code",
   "execution_count": 62,
   "metadata": {},
   "outputs": [],
   "source": [
    "rf_list = pd.read_csv(os.path.join('rfs_FS.csv')).sort_values(by='weight', ascending=False).feature\n",
    "stg_list = pd.read_csv(os.path.join('stg_FS.csv')).sort_values(by='weight', ascending=False).feature"
   ]
  },
  {
   "cell_type": "markdown",
   "metadata": {},
   "source": [
    "## Deepsur"
   ]
  },
  {
   "cell_type": "code",
   "execution_count": 64,
   "metadata": {},
   "outputs": [],
   "source": [
    "import torch\n",
    "import torchtuples as tt\n",
    "from pycox.evaluation import EvalSurv\n",
    "from pycox.models import CoxPH\n",
    "\n",
    "def Deepsur(Xtrain, Xval, Ytrain, Yval):    \n",
    "    # preprocessing data\n",
    "    Xtrain = Xtrain.values.astype('float32')\n",
    "    Xval = Xval.values.astype('float32')\n",
    "    Ytrain = get_target(Ytrain)\n",
    "    Yval = get_target(Yval)\n",
    "    val = Xval, Yval\n",
    "    \n",
    "    # parameters\n",
    "    in_features = Xtrain.shape[1]\n",
    "    num_nodes = [25, 25]\n",
    "    out_features = 1\n",
    "    batch_norm = True\n",
    "    dropout = 0.1\n",
    "    output_bias = False\n",
    "    batch_size = 128\n",
    "    if Xtrain.shape[0]%batch_size == 1:\n",
    "        batch_size = batch_size - 1\n",
    "    epochs = 100\n",
    "    callbacks = [tt.callbacks.EarlyStopping(patience=20)]\n",
    "    verbose = False\n",
    "    \n",
    "    # network\n",
    "    net = tt.practical.MLPVanilla(in_features, num_nodes, out_features, batch_norm,\n",
    "                                  dropout, output_bias=output_bias)\n",
    "    model = CoxPH(net, tt.optim.Adam)\n",
    "    \n",
    "    # train\n",
    "    lrfinder = model.lr_finder(Xtrain, Ytrain, batch_size, tolerance=10)\n",
    "    #best_lr = lrfinder.get_best_lr()\n",
    "    #_ = lrfinder.plot()\n",
    "    model.optimizer.set_lr(0.01)\n",
    "    log = model.fit(Xtrain, Ytrain, batch_size, epochs, callbacks, verbose,\n",
    "                    val_data=val, val_batch_size=batch_size)\n",
    "    return model\n",
    "    "
   ]
  },
  {
   "cell_type": "markdown",
   "metadata": {},
   "source": [
    "### DeepSur"
   ]
  },
  {
   "cell_type": "code",
   "execution_count": 66,
   "metadata": {},
   "outputs": [
    {
     "name": "stdout",
     "output_type": "stream",
     "text": [
      "1\n",
      "Kao C-index = 0.685\n",
      "2\n",
      "Kao C-index = 0.753\n",
      "3\n",
      "Kao C-index = 0.773\n",
      "4\n",
      "Kao C-index = 0.790\n",
      "5\n",
      "Kao C-index = 0.798\n",
      "6\n",
      "Kao C-index = 0.798\n",
      "7\n",
      "Kao C-index = 0.803\n",
      "8\n",
      "Kao C-index = 0.804\n",
      "9\n",
      "Kao C-index = 0.801\n",
      "10\n",
      "Kao C-index = 0.806\n",
      "11\n",
      "Kao C-index = 0.803\n",
      "12\n",
      "Kao C-index = 0.804\n",
      "13\n",
      "Kao C-index = 0.804\n",
      "14\n",
      "Kao C-index = 0.808\n",
      "15\n",
      "Kao C-index = 0.808\n",
      "16\n",
      "Kao C-index = 0.806\n",
      "17\n",
      "Kao C-index = 0.805\n",
      "18\n",
      "Kao C-index = 0.808\n",
      "19\n",
      "Kao C-index = 0.810\n",
      "20\n",
      "Kao C-index = 0.805\n",
      "21\n",
      "Kao C-index = 0.808\n",
      "22\n",
      "Kao C-index = 0.807\n",
      "23\n",
      "Kao C-index = 0.804\n",
      "24\n",
      "Kao C-index = 0.806\n",
      "25\n",
      "Kao C-index = 0.808\n"
     ]
    }
   ],
   "source": [
    "durations_test_kao, events_test_kao = get_target(y_test_kao)\n",
    "\n",
    "for i in range(len(rf_list)):\n",
    "    seed = 369\n",
    "    torch.manual_seed(seed)\n",
    "    torch.cuda.manual_seed(seed)\n",
    "    torch.cuda.manual_seed_all(seed)\n",
    "    np.random.seed(seed)\n",
    "    random.seed(seed)\n",
    "    torch.backends.cudnn.benchmark = False\n",
    "    torch.backends.cudnn.deterministic = True\n",
    "    #\n",
    "    features = rf_list.iloc[0:i+1].values\n",
    "    all_features = X_train.columns.values\n",
    "    drop_features = np.setdiff1d(all_features, features)\n",
    "    if len(features) > 0:   \n",
    "        X_train_fs = X_train.drop(drop_features, axis=1)\n",
    "        X_val_fs = X_val.drop(drop_features, axis=1)\n",
    "        X_test_kao_fs = X_test_kao.drop(drop_features, axis=1).values.astype('float32')\n",
    "        \n",
    "        deep_sur = Deepsur(X_train_fs, X_val_fs, y_train, y_val)\n",
    "        # prediction\n",
    "        _ = deep_sur.compute_baseline_hazards()\n",
    "        surv_kao = deep_sur.predict_surv_df(X_test_kao_fs)\n",
    "        # evaluation\n",
    "        ev_kao = EvalSurv(surv_kao, durations_test_kao, events_test_kao, censor_surv='km')\n",
    "        print(X_train_fs.shape[1])\n",
    "        print('Kao C-index = %.3f' %(ev_kao.concordance_td()))"
   ]
  },
  {
   "cell_type": "markdown",
   "metadata": {},
   "source": [
    "## RandomSurvivalForest"
   ]
  },
  {
   "cell_type": "code",
   "execution_count": 8,
   "metadata": {},
   "outputs": [
    {
     "name": "stdout",
     "output_type": "stream",
     "text": [
      "1\n",
      "Kao C-index = 0.685\n",
      "2\n",
      "Kao C-index = 0.750\n",
      "3\n",
      "Kao C-index = 0.765\n",
      "4\n",
      "Kao C-index = 0.781\n",
      "5\n",
      "Kao C-index = 0.792\n",
      "6\n",
      "Kao C-index = 0.797\n",
      "7\n",
      "Kao C-index = 0.801\n",
      "8\n",
      "Kao C-index = 0.802\n",
      "9\n",
      "Kao C-index = 0.801\n",
      "10\n",
      "Kao C-index = 0.802\n",
      "11\n",
      "Kao C-index = 0.804\n",
      "12\n",
      "Kao C-index = 0.804\n",
      "13\n",
      "Kao C-index = 0.805\n",
      "14\n",
      "Kao C-index = 0.806\n",
      "15\n",
      "Kao C-index = 0.806\n",
      "16\n",
      "Kao C-index = 0.807\n",
      "17\n",
      "Kao C-index = 0.806\n",
      "18\n",
      "Kao C-index = 0.808\n",
      "19\n",
      "Kao C-index = 0.807\n",
      "20\n",
      "Kao C-index = 0.806\n",
      "21\n",
      "Kao C-index = 0.808\n",
      "22\n",
      "Kao C-index = 0.807\n",
      "23\n",
      "Kao C-index = 0.807\n",
      "24\n",
      "Kao C-index = 0.807\n",
      "25\n",
      "Kao C-index = 0.808\n"
     ]
    }
   ],
   "source": [
    "from sksurv.ensemble import RandomSurvivalForest\n",
    "\n",
    "for i in range(len(rf_list)):\n",
    "    features = rf_list.iloc[0:i+1].values\n",
    "    if len(features) > 0:\n",
    "        X_train_fs = X_train[features]\n",
    "        X_val_fs = X_val[features]\n",
    "        X_test_kao_fs = X_test_kao[features].values.astype('float32')\n",
    "        \n",
    "        y_train_cox =  y_train.copy()\n",
    "        y_train_cox.loc[:, 'Mortality'] = y_train_cox['Mortality'].astype(bool)\n",
    "        y_train_cox = np.array(list(y_train_cox.to_records(index=False)))\n",
    "        y_test_kao_cox =  y_test_kao.copy()\n",
    "        y_test_kao_cox.loc[:, 'Mortality'] = y_test_kao_cox['Mortality'].astype(bool)\n",
    "        y_test_kao_cox = np.array(list(y_test_kao_cox.to_records(index=False)))\n",
    "        \n",
    "        rsf = RandomSurvivalForest(n_estimators=100,\n",
    "                           min_samples_split=10,\n",
    "                           min_samples_leaf=15,\n",
    "                           max_features=\"sqrt\",\n",
    "                           n_jobs=-1,\n",
    "                           random_state=369)\n",
    "        rsf.fit(X_train_fs, y_train_cox)\n",
    "        print(X_train_fs.shape[1])\n",
    "        print('Kao C-index = %.3f' %(rsf.score(X_test_kao_fs, y_test_kao_cox)))"
   ]
  }
 ],
 "metadata": {
  "kernelspec": {
   "display_name": "Python 3",
   "language": "python",
   "name": "python3"
  },
  "language_info": {
   "codemirror_mode": {
    "name": "ipython",
    "version": 3
   },
   "file_extension": ".py",
   "mimetype": "text/x-python",
   "name": "python",
   "nbconvert_exporter": "python",
   "pygments_lexer": "ipython3",
   "version": "3.8.5"
  }
 },
 "nbformat": 4,
 "nbformat_minor": 4
}
