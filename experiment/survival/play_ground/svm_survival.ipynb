{
 "cells": [
  {
   "cell_type": "code",
   "execution_count": 5,
   "metadata": {},
   "outputs": [],
   "source": [
    "import os\n",
    "import pandas as pd\n",
    "import numpy as np\n",
    "from sklearn.model_selection import train_test_split\n",
    "from sksurv.metrics import concordance_index_censored\n",
    "from sksurv.svm import FastSurvivalSVM\n",
    "import matplotlib.pyplot as plt"
   ]
  },
  {
   "cell_type": "code",
   "execution_count": 6,
   "metadata": {},
   "outputs": [
    {
     "name": "stderr",
     "output_type": "stream",
     "text": [
      "<ipython-input-6-99102b60bd71>:9: SettingWithCopyWarning: \n",
      "A value is trying to be set on a copy of a slice from a DataFrame.\n",
      "Try using .loc[row_indexer,col_indexer] = value instead\n",
      "\n",
      "See the caveats in the documentation: https://pandas.pydata.org/pandas-docs/stable/user_guide/indexing.html#returning-a-view-versus-a-copy\n",
      "  data_y['Mortality'] = data_y['Mortality'].astype(bool)\n"
     ]
    }
   ],
   "source": [
    "data = pd.read_csv(os.path.join('..', '..', 'data', 'tidy_Stroke_Vital_Sign.csv'))\n",
    "data_x = data.drop(['UID', 'Hospital_ID', 'SurvivalWeeks', 'admission_date',\n",
    "                    'discharge_date', 'death_date', 'Mortality', 'CVDeath'], axis=1)\n",
    "categorical_ix = [0, 2, 3, 4, 5, 6, 7, 8, 15, 16, 17]\n",
    "categorical_columns = data_x.columns[categorical_ix].values\n",
    "data_x_one_hot = pd.get_dummies(data_x, columns=categorical_columns)\n",
    "\n",
    "data_y = data[['Mortality', 'SurvivalWeeks']]\n",
    "data_y['Mortality'] = data_y['Mortality'].astype(bool)\n",
    "data_y = np.array(list(data_y.to_records(index=False)))"
   ]
  },
  {
   "cell_type": "code",
   "execution_count": 7,
   "metadata": {},
   "outputs": [],
   "source": [
    "X_train, X_test, y_train, y_test = train_test_split(\n",
    "    data_x_one_hot, data_y, test_size=0.25, random_state=369)"
   ]
  },
  {
   "cell_type": "markdown",
   "metadata": {},
   "source": [
    "# As a ranking problem"
   ]
  },
  {
   "cell_type": "code",
   "execution_count": 9,
   "metadata": {},
   "outputs": [],
   "source": [
    "fsSVM = FastSurvivalSVM(max_iter=1000, tol=1e-5, random_state=0)"
   ]
  },
  {
   "cell_type": "code",
   "execution_count": 10,
   "metadata": {},
   "outputs": [
    {
     "name": "stdout",
     "output_type": "stream",
     "text": [
      "0.8107292326449881\n"
     ]
    }
   ],
   "source": [
    "fsSVM.fit(X_train, y_train)\n",
    "\n",
    "print(fsSVM.score(X_test, y_test))"
   ]
  },
  {
   "cell_type": "markdown",
   "metadata": {},
   "source": [
    "# As a regression problem"
   ]
  },
  {
   "cell_type": "code",
   "execution_count": 14,
   "metadata": {},
   "outputs": [
    {
     "data": {
      "text/plain": [
       "array([(False, 4.64026151), (False, 5.91079664), (False, 5.312502  ), ...,\n",
       "       ( True, 1.09861229), (False, 5.03323513), (False, 5.65748919)],\n",
       "      dtype=(numpy.record, [('Mortality', '?'), ('SurvivalWeeks', '<f8')]))"
      ]
     },
     "execution_count": 14,
     "metadata": {},
     "output_type": "execute_result"
    }
   ],
   "source": [
    "y_log_t = y_train.copy()\n",
    "y_log_t[\"SurvivalWeeks\"] = np.log1p(y_train[\"SurvivalWeeks\"])\n",
    "y_log_t"
   ]
  },
  {
   "cell_type": "code",
   "execution_count": 15,
   "metadata": {},
   "outputs": [
    {
     "name": "stdout",
     "output_type": "stream",
     "text": [
      "0.566484241714088\n"
     ]
    }
   ],
   "source": [
    "ref_estimator = FastSurvivalSVM(rank_ratio=0.0, max_iter=1000, tol=1e-5, random_state=0)\n",
    "ref_estimator.fit(X_train, y_log_t)\n",
    "\n",
    "cindex = concordance_index_censored(\n",
    "    y_train['Mortality'],\n",
    "    y_train['SurvivalWeeks'],\n",
    "    -ref_estimator.predict(X_train),  # flip sign to obtain risk scores\n",
    ")\n",
    "print(cindex[0])"
   ]
  },
  {
   "cell_type": "code",
   "execution_count": null,
   "metadata": {},
   "outputs": [],
   "source": []
  }
 ],
 "metadata": {
  "kernelspec": {
   "display_name": "Python 3",
   "language": "python",
   "name": "python3"
  },
  "language_info": {
   "codemirror_mode": {
    "name": "ipython",
    "version": 3
   },
   "file_extension": ".py",
   "mimetype": "text/x-python",
   "name": "python",
   "nbconvert_exporter": "python",
   "pygments_lexer": "ipython3",
   "version": "3.8.5"
  }
 },
 "nbformat": 4,
 "nbformat_minor": 4
}
