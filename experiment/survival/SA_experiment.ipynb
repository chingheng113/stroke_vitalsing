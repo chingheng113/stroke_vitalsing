{
 "cells": [
  {
   "cell_type": "markdown",
   "metadata": {},
   "source": [
    "# Include libraries"
   ]
  },
  {
   "cell_type": "code",
   "execution_count": 1,
   "metadata": {},
   "outputs": [],
   "source": [
    "import os\n",
    "import pandas as pd\n",
    "import numpy as np\n",
    "import matplotlib.pyplot as plt\n",
    "from sklearn.model_selection import train_test_split\n",
    "from sksurv.column import encode_categorical"
   ]
  },
  {
   "cell_type": "markdown",
   "metadata": {},
   "source": [
    "# Data Preprocessing"
   ]
  },
  {
   "cell_type": "code",
   "execution_count": 2,
   "metadata": {},
   "outputs": [],
   "source": [
    "data = pd.read_csv(os.path.join('..', '..', 'data', 'tidy_Stroke_Vital_Sign.csv'))\n",
    "\n",
    "data_x = data.drop(['LOC', 'UID', 'Hospital_ID', 'SurvivalWeeks', 'admission_date',\n",
    "                    'discharge_date', 'death_date', 'Mortality', 'CVDeath', 'SurvivalDays', 'CAD'], axis=1)\n",
    "\n",
    "data_y = data[['Mortality', 'SurvivalWeeks']]"
   ]
  },
  {
   "cell_type": "markdown",
   "metadata": {},
   "source": [
    "# Remove high-correlation features"
   ]
  },
  {
   "cell_type": "code",
   "execution_count": 3,
   "metadata": {},
   "outputs": [],
   "source": [
    "data_x = data_x.drop(['ICU', 'Age'], axis=1)"
   ]
  },
  {
   "cell_type": "markdown",
   "metadata": {},
   "source": [
    "# Data split"
   ]
  },
  {
   "cell_type": "code",
   "execution_count": 4,
   "metadata": {},
   "outputs": [],
   "source": [
    "X_temp = data_x[data.LOC == '3']\n",
    "y_temp = data_y[data.LOC == '3']\n",
    "X_train, X_val, y_train, y_val = train_test_split(X_temp, y_temp, test_size=0.25, random_state=369)\n",
    "\n",
    "X_test_kee = data_x[data.LOC == '2']\n",
    "y_test_kee = data_y[data.LOC == '2']\n",
    "\n",
    "X_test_chi = data_x[data.LOC == '6']\n",
    "y_test_chi = data_y[data.LOC == '6']\n",
    "\n",
    "X_test_kao = data_x[data.LOC == '8']\n",
    "y_test_kao = data_y[data.LOC == '8']\n"
   ]
  },
  {
   "cell_type": "code",
   "execution_count": 5,
   "metadata": {},
   "outputs": [],
   "source": [
    "categorical_columns = ['Sex', 'AF', 'DM', 'HTN', 'Hyperlipidemia', 'CHF', 'Smoking',\n",
    "                       'Cancer before adm', 'Foley', 'NG', 'Dyslipidemia']\n",
    "numerical_columns = np.setdiff1d(data_x.columns, categorical_columns).tolist()\n",
    "\n",
    "categorical_ix = [data_x.columns.get_loc(col) for col in categorical_columns]\n",
    "numerical_ix =  np.setdiff1d(list(range(0, len(data_x.columns))), categorical_ix).tolist()"
   ]
  },
  {
   "cell_type": "markdown",
   "metadata": {},
   "source": [
    "# Numeric data standardization"
   ]
  },
  {
   "cell_type": "code",
   "execution_count": 6,
   "metadata": {},
   "outputs": [],
   "source": [
    "from sklearn import preprocessing\n",
    "from sklearn_pandas import DataFrameMapper\n",
    "\n",
    "scaler = preprocessing.StandardScaler()\n",
    "\n",
    "standardize = [([col], scaler) for col in numerical_columns]\n",
    "leave = [(col, None) for col in categorical_columns]\n",
    "\n",
    "x_mapper = DataFrameMapper(standardize + leave)\n",
    "\n",
    "X_train = pd.DataFrame(data=x_mapper.fit_transform(X_train),\n",
    "                       columns=numerical_columns+categorical_columns,\n",
    "                      index=X_train.index)\n",
    "\n",
    "X_val = pd.DataFrame(data=x_mapper.fit_transform(X_val),\n",
    "                       columns=numerical_columns+categorical_columns,\n",
    "                      index=X_val.index)\n",
    "\n",
    "X_test_kee = pd.DataFrame(data=x_mapper.fit_transform(X_test_kee),\n",
    "                      columns=numerical_columns+categorical_columns,\n",
    "                     index=X_test_kee.index)\n",
    "\n",
    "X_test_chi = pd.DataFrame(data=x_mapper.fit_transform(X_test_chi),\n",
    "                      columns=numerical_columns+categorical_columns,\n",
    "                     index=X_test_chi.index)\n",
    "\n",
    "X_test_kao = pd.DataFrame(data=x_mapper.fit_transform(X_test_kao),\n",
    "                      columns=numerical_columns+categorical_columns,\n",
    "                     index=X_test_kao.index)"
   ]
  },
  {
   "cell_type": "markdown",
   "metadata": {},
   "source": [
    "# One-hot-Encode"
   ]
  },
  {
   "cell_type": "code",
   "execution_count": 7,
   "metadata": {},
   "outputs": [],
   "source": [
    "X_train = encode_categorical(X_train, columns=categorical_columns)\n",
    "X_val = encode_categorical(X_val, columns=categorical_columns)\n",
    "X_test_kee = encode_categorical(X_test_kee, columns=categorical_columns)\n",
    "X_test_chi = encode_categorical(X_test_chi, columns=categorical_columns)\n",
    "X_test_kao = encode_categorical(X_test_kao, columns=categorical_columns)"
   ]
  },
  {
   "cell_type": "markdown",
   "metadata": {},
   "source": [
    "# Cox’s proportional hazard’s model"
   ]
  },
  {
   "cell_type": "code",
   "execution_count": 8,
   "metadata": {},
   "outputs": [
    {
     "name": "stdout",
     "output_type": "stream",
     "text": [
      "Kee C-index = 0.794\n",
      "Chi C-index = 0.804\n",
      "Kao C-index = 0.811\n"
     ]
    }
   ],
   "source": [
    "from sksurv.linear_model import CoxPHSurvivalAnalysis\n",
    "\n",
    "estimator = CoxPHSurvivalAnalysis()\n",
    "y_train_cox =  y_train.copy()\n",
    "y_train_cox.loc[:, 'Mortality'] = y_train_cox['Mortality'].astype(bool)\n",
    "y_train_cox = np.array(list(y_train_cox.to_records(index=False)))\n",
    "\n",
    "# kee\n",
    "y_test_kee_cox =  y_test_kee.copy()\n",
    "y_test_kee_cox.loc[:, 'Mortality'] = y_test_kee_cox['Mortality'].astype(bool)\n",
    "y_test_kee_cox = np.array(list(y_test_kee_cox.to_records(index=False)))\n",
    "# Chi\n",
    "y_test_chi_cox =  y_test_chi.copy()\n",
    "y_test_chi_cox.loc[:, 'Mortality'] = y_test_chi_cox['Mortality'].astype(bool)\n",
    "y_test_chi_cox = np.array(list(y_test_chi_cox.to_records(index=False)))\n",
    "# Kao\n",
    "y_test_kao_cox =  y_test_kao.copy()\n",
    "y_test_kao_cox.loc[:, 'Mortality'] = y_test_kao_cox['Mortality'].astype(bool)\n",
    "y_test_kao_cox = np.array(list(y_test_kao_cox.to_records(index=False)))\n",
    "\n",
    "\n",
    "estimator.fit(X_train, y_train_cox)\n",
    "print('Kee C-index = %.3f' %(estimator.score(X_test_kee, y_test_kee_cox)))\n",
    "print('Chi C-index = %.3f' %(estimator.score(X_test_chi, y_test_chi_cox)))\n",
    "print('Kao C-index = %.3f' %(estimator.score(X_test_kao, y_test_kao_cox)))\n"
   ]
  },
  {
   "cell_type": "markdown",
   "metadata": {},
   "source": [
    "# RF"
   ]
  },
  {
   "cell_type": "code",
   "execution_count": 9,
   "metadata": {},
   "outputs": [
    {
     "name": "stdout",
     "output_type": "stream",
     "text": [
      "Kee C-index = 0.814\n",
      "Chi C-index = 0.817\n",
      "Kao C-index = 0.818\n"
     ]
    }
   ],
   "source": [
    "from sksurv.ensemble import RandomSurvivalForest\n",
    "\n",
    "rsf = RandomSurvivalForest(n_estimators=1000,\n",
    "                           min_samples_split=10,\n",
    "                           min_samples_leaf=15,\n",
    "                           max_features=\"sqrt\",\n",
    "                           n_jobs=-1,\n",
    "                           random_state=369)\n",
    "\n",
    "rsf.fit(X_train, y_train_cox)\n",
    "\n",
    "print('Kee C-index = %.3f' %(rsf.score(X_test_kee, y_test_kee_cox)))\n",
    "print('Chi C-index = %.3f' %(rsf.score(X_test_chi, y_test_chi_cox)))\n",
    "print('Kao C-index = %.3f' %(rsf.score(X_test_kao, y_test_kao_cox)))"
   ]
  },
  {
   "cell_type": "markdown",
   "metadata": {},
   "source": [
    "# Deepsur (CoxPH)"
   ]
  },
  {
   "cell_type": "code",
   "execution_count": 10,
   "metadata": {},
   "outputs": [],
   "source": [
    "from pycox.datasets import metabric\n",
    "from pycox.models import CoxPH\n",
    "from pycox.evaluation import EvalSurv"
   ]
  },
  {
   "cell_type": "code",
   "execution_count": 11,
   "metadata": {},
   "outputs": [],
   "source": [
    "import torch\n",
    "import torchtuples as tt\n",
    "\n",
    "np.random.seed(369)\n",
    "_ = torch.manual_seed(369)"
   ]
  },
  {
   "cell_type": "markdown",
   "metadata": {},
   "source": [
    "## input processing for model"
   ]
  },
  {
   "cell_type": "code",
   "execution_count": 12,
   "metadata": {},
   "outputs": [],
   "source": [
    "X_train = X_train.values.astype('float32')\n",
    "X_val = X_val.values.astype('float32')\n",
    "X_test_kee = X_test_kee.values.astype('float32')\n",
    "X_test_chi = X_test_chi.values.astype('float32')\n",
    "X_test_kao = X_test_kao.values.astype('float32')\n",
    "\n",
    "get_target = lambda df: (df['SurvivalWeeks'].values, df['Mortality'].values)\n",
    "y_train = get_target(y_train)\n",
    "y_val = get_target(y_val)\n",
    "\n",
    "val = X_val, y_val\n",
    "\n",
    "durations_test_kee, events_test_kee = get_target(y_test_kee)\n",
    "durations_test_chi, events_test_chi = get_target(y_test_chi)\n",
    "durations_test_kao, events_test_kao = get_target(y_test_kao)\n"
   ]
  },
  {
   "cell_type": "code",
   "execution_count": 13,
   "metadata": {},
   "outputs": [],
   "source": [
    "in_features = X_train.shape[1]\n",
    "num_nodes = [64, 64, 64]\n",
    "out_features = 1\n",
    "batch_norm = True\n",
    "dropout = 0.1\n",
    "output_bias = False\n",
    "\n",
    "net = tt.practical.MLPVanilla(in_features, num_nodes, out_features, batch_norm,\n",
    "                              dropout, output_bias=output_bias)"
   ]
  },
  {
   "cell_type": "code",
   "execution_count": 14,
   "metadata": {},
   "outputs": [
    {
     "data": {
      "image/png": "[encoded data removed]",
      "text/plain": [
       "<Figure size 432x288 with 1 Axes>"
      ]
     },
     "metadata": {
      "needs_background": "light"
     },
     "output_type": "display_data"
    }
   ],
   "source": [
    "model = CoxPH(net, tt.optim.Adam)\n",
    "batch_size = 256\n",
    "lrfinder = model.lr_finder(X_train, y_train, batch_size, tolerance=10)\n",
    "_ = lrfinder.plot()"
   ]
  },
  {
   "cell_type": "code",
   "execution_count": 15,
   "metadata": {},
   "outputs": [],
   "source": [
    "model.optimizer.set_lr(lrfinder.get_best_lr())"
   ]
  },
  {
   "cell_type": "code",
   "execution_count": 16,
   "metadata": {},
   "outputs": [],
   "source": [
    "epochs = 100\n",
    "callbacks = [tt.callbacks.EarlyStopping(patience=20)]\n",
    "verbose = True"
   ]
  },
  {
   "cell_type": "code",
   "execution_count": 17,
   "metadata": {},
   "outputs": [
    {
     "name": "stdout",
     "output_type": "stream",
     "text": [
      "0:\t[0s / 0s],\t\ttrain_loss: 4.7943,\tval_loss: 5.0196\n",
      "1:\t[0s / 0s],\t\ttrain_loss: 4.5010,\tval_loss: 4.4473\n",
      "2:\t[0s / 0s],\t\ttrain_loss: 4.4111,\tval_loss: 4.3943\n",
      "3:\t[0s / 0s],\t\ttrain_loss: 4.3463,\tval_loss: 4.4198\n",
      "4:\t[0s / 0s],\t\ttrain_loss: 4.3212,\tval_loss: 4.4458\n",
      "5:\t[0s / 0s],\t\ttrain_loss: 4.2865,\tval_loss: 4.5065\n",
      "6:\t[0s / 0s],\t\ttrain_loss: 4.2421,\tval_loss: 4.4504\n",
      "7:\t[0s / 0s],\t\ttrain_loss: 4.2321,\tval_loss: 4.5107\n",
      "8:\t[0s / 0s],\t\ttrain_loss: 4.1886,\tval_loss: 4.5903\n",
      "9:\t[0s / 0s],\t\ttrain_loss: 4.1875,\tval_loss: 4.5596\n",
      "10:\t[0s / 0s],\t\ttrain_loss: 4.1491,\tval_loss: 4.6359\n",
      "11:\t[0s / 0s],\t\ttrain_loss: 4.0993,\tval_loss: 4.5968\n",
      "12:\t[0s / 0s],\t\ttrain_loss: 4.0446,\tval_loss: 4.5837\n",
      "13:\t[0s / 0s],\t\ttrain_loss: 4.0286,\tval_loss: 4.7234\n",
      "14:\t[0s / 0s],\t\ttrain_loss: 4.0183,\tval_loss: 4.6569\n",
      "15:\t[0s / 1s],\t\ttrain_loss: 3.9507,\tval_loss: 4.7794\n",
      "16:\t[0s / 1s],\t\ttrain_loss: 3.9489,\tval_loss: 4.8467\n",
      "17:\t[0s / 1s],\t\ttrain_loss: 3.8862,\tval_loss: 4.7684\n",
      "18:\t[0s / 1s],\t\ttrain_loss: 3.9530,\tval_loss: 4.7730\n",
      "19:\t[0s / 1s],\t\ttrain_loss: 3.9586,\tval_loss: 4.6919\n",
      "20:\t[0s / 1s],\t\ttrain_loss: 3.8678,\tval_loss: 4.7126\n",
      "21:\t[0s / 1s],\t\ttrain_loss: 3.7964,\tval_loss: 4.8929\n",
      "22:\t[0s / 1s],\t\ttrain_loss: 3.7975,\tval_loss: 4.9681\n"
     ]
    }
   ],
   "source": [
    "log = model.fit(X_train, y_train, batch_size, epochs, callbacks, verbose,\n",
    "                val_data=val, val_batch_size=batch_size)"
   ]
  },
  {
   "cell_type": "markdown",
   "metadata": {},
   "source": [
    "## Prediction"
   ]
  },
  {
   "cell_type": "code",
   "execution_count": 18,
   "metadata": {},
   "outputs": [],
   "source": [
    "_ = model.compute_baseline_hazards()\n",
    "surv_kee = model.predict_surv_df(X_test_kee)\n",
    "surv_chi = model.predict_surv_df(X_test_chi)\n",
    "surv_kao = model.predict_surv_df(X_test_kao)"
   ]
  },
  {
   "cell_type": "markdown",
   "metadata": {},
   "source": [
    "## Evaluation"
   ]
  },
  {
   "cell_type": "code",
   "execution_count": 19,
   "metadata": {},
   "outputs": [
    {
     "name": "stdout",
     "output_type": "stream",
     "text": [
      "Kee C-index = 0.809\n",
      "Chi C-index = 0.812\n",
      "Kao C-index = 0.819\n"
     ]
    }
   ],
   "source": [
    "ev_kee = EvalSurv(surv_kee, durations_test_kee, events_test_kee, censor_surv='km')\n",
    "print('Kee C-index = %.3f' %(ev_kee.concordance_td()))\n",
    "\n",
    "ev_chi = EvalSurv(surv_chi, durations_test_chi, events_test_chi, censor_surv='km')\n",
    "print('Chi C-index = %.3f' %(ev_chi.concordance_td()))\n",
    "\n",
    "ev_kao = EvalSurv(surv_kao, durations_test_kao, events_test_kao, censor_surv='km')\n",
    "print('Kao C-index = %.3f' %(ev_kao.concordance_td()))"
   ]
  },
  {
   "cell_type": "code",
   "execution_count": null,
   "metadata": {},
   "outputs": [],
   "source": []
  },
  {
   "cell_type": "code",
   "execution_count": null,
   "metadata": {},
   "outputs": [],
   "source": []
  }
 ],
 "metadata": {
  "kernelspec": {
   "display_name": "Python 3",
   "language": "python",
   "name": "python3"
  },
  "language_info": {
   "codemirror_mode": {
    "name": "ipython",
    "version": 3
   },
   "file_extension": ".py",
   "mimetype": "text/x-python",
   "name": "python",
   "nbconvert_exporter": "python",
   "pygments_lexer": "ipython3",
   "version": "3.8.5"
  }
 },
 "nbformat": 4,
 "nbformat_minor": 4
}
