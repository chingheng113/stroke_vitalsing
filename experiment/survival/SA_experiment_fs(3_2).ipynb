{
 "cells": [
  {
   "cell_type": "markdown",
   "metadata": {},
   "source": [
    "## Include libraries"
   ]
  },
  {
   "cell_type": "code",
   "execution_count": 1,
   "metadata": {},
   "outputs": [],
   "source": [
    "import os\n",
    "import pandas as pd\n",
    "import numpy as np\n",
    "import random\n",
    "import matplotlib.pyplot as plt\n",
    "from sklearn.model_selection import train_test_split\n",
    "from sksurv.column import encode_categorical"
   ]
  },
  {
   "cell_type": "markdown",
   "metadata": {},
   "source": [
    "## data preprocessing"
   ]
  },
  {
   "cell_type": "code",
   "execution_count": 2,
   "metadata": {},
   "outputs": [],
   "source": [
    "from sklearn import preprocessing\n",
    "from sklearn_pandas import DataFrameMapper\n",
    "\n",
    "def data_processing(data_df, fearure_list, top_n):\n",
    "    data_df_x = data_df.drop(['LOC', 'UID', 'Mortality', 'SurvivalDays'], axis=1)\n",
    "\n",
    "    data_df_y = data_df[['Mortality', 'SurvivalDays']]\n",
    "    \n",
    "    # feature selection\n",
    "    top_n_fs = feature_list.features[0:top_n].values\n",
    "    data_df_x = data_df_x[top_n_fs]  \n",
    "\n",
    "    X_temp = data_df_x[(data_df.LOC == '3') | (data_df.LOC == '2') | (data_df.LOC == '6')]\n",
    "    y_temp = data_df_y[(data_df.LOC == '3') | (data_df.LOC == '2') | (data_df.LOC == '6')]\n",
    "    X_df_train, X_df_val, y_df_train, y_df_val = train_test_split(X_temp, y_temp, test_size=0.25, random_state=369)\n",
    "\n",
    "    X_df_test_kao = data_df_x[data_df.LOC == '8']\n",
    "    y_df_test_kao = data_df_y[data_df.LOC == '8']\n",
    "\n",
    "    categorical_columns = ['Sex', 'AF', 'DM', 'HTN', 'Dyslipidemia', 'CHF', 'Smoking',\n",
    "                           'Cancer.before.adm']\n",
    "    \n",
    "    categorical_columns = [x for x in categorical_columns if x in top_n_fs]\n",
    "    \n",
    "    numerical_columns = np.setdiff1d(data_df_x.columns, categorical_columns).tolist()\n",
    "\n",
    "    categorical_ix = [data_df_x.columns.get_loc(col) for col in categorical_columns]\n",
    "    numerical_ix =  np.setdiff1d(list(range(0, len(data_df_x.columns))), categorical_ix).tolist()\n",
    "\n",
    "    scaler = preprocessing.StandardScaler()\n",
    "\n",
    "    standardize = [([col], scaler) for col in numerical_columns]\n",
    "    leave = [(col, None) for col in categorical_columns]\n",
    "\n",
    "    x_mapper = DataFrameMapper(standardize + leave)\n",
    "\n",
    "    X_df_train = pd.DataFrame(data=x_mapper.fit_transform(X_df_train),\n",
    "                              columns=numerical_columns+categorical_columns,\n",
    "                              index=X_df_train.index)\n",
    "\n",
    "    X_df_val = pd.DataFrame(data=x_mapper.fit_transform(X_df_val),\n",
    "                            columns=numerical_columns+categorical_columns,\n",
    "                            index=X_df_val.index)\n",
    "\n",
    "    X_df_test_kao = pd.DataFrame(data=x_mapper.fit_transform(X_df_test_kao),\n",
    "                                 columns=numerical_columns+categorical_columns,\n",
    "                                 index=X_df_test_kao.index)\n",
    "\n",
    "    X_df_train = encode_categorical(X_df_train, columns=categorical_columns)\n",
    "    X_df_val = encode_categorical(X_df_val, columns=categorical_columns)\n",
    "    X_df_test_kao = encode_categorical(X_df_test_kao, columns=categorical_columns)\n",
    "    \n",
    "    return X_df_train, X_df_val, y_df_train, y_df_val, X_df_test_kao, y_df_test_kao"
   ]
  },
  {
   "cell_type": "markdown",
   "metadata": {},
   "source": [
    "## DL setting"
   ]
  },
  {
   "cell_type": "code",
   "execution_count": 3,
   "metadata": {},
   "outputs": [],
   "source": [
    "import torch\n",
    "import torchtuples as tt\n",
    "from pycox.evaluation import EvalSurv\n",
    "\n",
    "get_target = lambda df: (df['SurvivalDays'].values, df['Mortality'].values)"
   ]
  },
  {
   "cell_type": "markdown",
   "metadata": {},
   "source": [
    "## Feature selection"
   ]
  },
  {
   "cell_type": "code",
   "execution_count": 4,
   "metadata": {},
   "outputs": [],
   "source": [
    "data = pd.read_csv(os.path.join('..', '..', 'data', '(v3_2)STROKE_VITAL_SIGN_MICE.csv'))\n",
    "feature_list = pd.read_csv(os.path.join('..', '..', 'data', '(v3_2)ranked_list.csv'))\n",
    "\n",
    "X_train_5, X_val_5, y_train, y_val, X_test_kao_5, y_test_kao = data_processing(data, feature_list, 5)\n",
    "X_train_10, X_val_10, y_train, y_val, X_test_kao_10, y_test_kao = data_processing(data, feature_list, 10)\n",
    "X_train_15, X_val_15, y_train, y_val, X_test_kao_15, y_test_kao = data_processing(data, feature_list, 15)\n",
    "\n",
    "# for DLs\n",
    "X_test_kao_5 = X_test_kao_5.values.astype('float32')\n",
    "X_test_kao_10 = X_test_kao_10.values.astype('float32')\n",
    "X_test_kao_15 = X_test_kao_15.values.astype('float32')\n",
    "durations_test_kao, events_test_kao = get_target(y_test_kao)\n",
    "# for RSF\n",
    "y_train_cox =  y_train.copy()\n",
    "y_train_cox.loc[:, 'Mortality'] = y_train_cox['Mortality'].astype(bool)\n",
    "y_train_cox = np.array(list(y_train_cox.to_records(index=False)))\n",
    "y_test_kao_cox =  y_test_kao.copy()\n",
    "y_test_kao_cox.loc[:, 'Mortality'] = y_test_kao_cox['Mortality'].astype(bool)\n",
    "y_test_kao_cox = np.array(list(y_test_kao_cox.to_records(index=False)))"
   ]
  },
  {
   "cell_type": "markdown",
   "metadata": {},
   "source": [
    "## Deepsur"
   ]
  },
  {
   "cell_type": "code",
   "execution_count": 5,
   "metadata": {},
   "outputs": [],
   "source": [
    "from pycox.models import CoxPH\n",
    "\n",
    "def Deepsur(Xtrain, Xval, Ytrain, Yval):\n",
    "    # preprocessing data\n",
    "    Xtrain = Xtrain.values.astype('float32')\n",
    "    Xval = Xval.values.astype('float32')\n",
    "    Ytrain = get_target(Ytrain)\n",
    "    Yval = get_target(Yval)\n",
    "    val = Xval, Yval\n",
    "    \n",
    "    # parameters\n",
    "    in_features = Xtrain.shape[1]\n",
    "    num_nodes = [46, 32, 8]\n",
    "    out_features = 1\n",
    "    batch_norm = True\n",
    "    dropout = 0.1\n",
    "    output_bias = False\n",
    "    batch_size = 256\n",
    "    if Xtrain.shape[0]%batch_size == 1:\n",
    "        batch_size = batch_size - 1\n",
    "    epochs = 100\n",
    "    callbacks = [tt.callbacks.EarlyStopping(patience=20)]\n",
    "    verbose = False\n",
    "    \n",
    "    # network\n",
    "    net = tt.practical.MLPVanilla(in_features, num_nodes, out_features, batch_norm,\n",
    "                                  dropout, output_bias=output_bias)\n",
    "    model = CoxPH(net, tt.optim.Adam)\n",
    "    \n",
    "    # train\n",
    "    lrfinder = model.lr_finder(Xtrain, Ytrain, batch_size, tolerance=10)\n",
    "    best_lr = lrfinder.get_best_lr()\n",
    "    #_ = lrfinder.plot()\n",
    "#     best_lr = 0.089\n",
    "    model.optimizer.set_lr(best_lr)\n",
    "    log = model.fit(Xtrain, Ytrain, batch_size, epochs, callbacks, verbose,\n",
    "                    val_data=val, val_batch_size=batch_size)\n",
    "    return model\n",
    "    "
   ]
  },
  {
   "cell_type": "markdown",
   "metadata": {},
   "source": [
    "### top5-deepSur"
   ]
  },
  {
   "cell_type": "code",
   "execution_count": 6,
   "metadata": {},
   "outputs": [],
   "source": [
    "seed = 369\n",
    "torch.manual_seed(seed)\n",
    "torch.cuda.manual_seed(seed)\n",
    "torch.cuda.manual_seed_all(seed)\n",
    "np.random.seed(seed)\n",
    "random.seed(seed)\n",
    "torch.backends.cudnn.benchmark = False\n",
    "torch.backends.cudnn.deterministic = True\n",
    "\n",
    "deep_sur = Deepsur(X_train_5, X_val_5, y_train, y_val)"
   ]
  },
  {
   "cell_type": "code",
   "execution_count": 7,
   "metadata": {},
   "outputs": [
    {
     "name": "stdout",
     "output_type": "stream",
     "text": [
      "Kao C-index = 0.789\n"
     ]
    }
   ],
   "source": [
    "# prediction\n",
    "_ = deep_sur.compute_baseline_hazards()\n",
    "surv_kao = deep_sur.predict_surv_df(X_test_kao_5)\n",
    "# evaluation\n",
    "ev_kao = EvalSurv(surv_kao, durations_test_kao, events_test_kao, censor_surv='km')\n",
    "print('Kao C-index = %.3f' %(ev_kao.concordance_td()))"
   ]
  },
  {
   "cell_type": "markdown",
   "metadata": {},
   "source": [
    "### top10-deepSur"
   ]
  },
  {
   "cell_type": "code",
   "execution_count": 8,
   "metadata": {},
   "outputs": [],
   "source": [
    "seed = 369\n",
    "torch.manual_seed(seed)\n",
    "torch.cuda.manual_seed(seed)\n",
    "torch.cuda.manual_seed_all(seed)\n",
    "np.random.seed(seed)\n",
    "random.seed(seed)\n",
    "torch.backends.cudnn.benchmark = False\n",
    "torch.backends.cudnn.deterministic = True\n",
    "\n",
    "deep_sur = Deepsur(X_train_10, X_val_10, y_train, y_val)"
   ]
  },
  {
   "cell_type": "code",
   "execution_count": 9,
   "metadata": {},
   "outputs": [
    {
     "name": "stdout",
     "output_type": "stream",
     "text": [
      "Kao C-index = 0.806\n"
     ]
    }
   ],
   "source": [
    "# prediction\n",
    "_ = deep_sur.compute_baseline_hazards()\n",
    "surv_kao = deep_sur.predict_surv_df(X_test_kao_10)\n",
    "# evaluation\n",
    "ev_kao = EvalSurv(surv_kao, durations_test_kao, events_test_kao, censor_surv='km')\n",
    "print('Kao C-index = %.3f' %(ev_kao.concordance_td()))"
   ]
  },
  {
   "cell_type": "markdown",
   "metadata": {},
   "source": [
    "### top15-deepSur"
   ]
  },
  {
   "cell_type": "code",
   "execution_count": 10,
   "metadata": {},
   "outputs": [],
   "source": [
    "seed = 369\n",
    "torch.manual_seed(seed)\n",
    "torch.cuda.manual_seed(seed)\n",
    "torch.cuda.manual_seed_all(seed)\n",
    "np.random.seed(seed)\n",
    "random.seed(seed)\n",
    "torch.backends.cudnn.benchmark = False\n",
    "torch.backends.cudnn.deterministic = True\n",
    "\n",
    "deep_sur = Deepsur(X_train_15, X_val_15, y_train, y_val)"
   ]
  },
  {
   "cell_type": "code",
   "execution_count": 11,
   "metadata": {},
   "outputs": [
    {
     "name": "stdout",
     "output_type": "stream",
     "text": [
      "Kao C-index = 0.810\n"
     ]
    }
   ],
   "source": [
    "# prediction\n",
    "_ = deep_sur.compute_baseline_hazards()\n",
    "surv_kao = deep_sur.predict_surv_df(X_test_kao_15)\n",
    "# evaluation\n",
    "ev_kao = EvalSurv(surv_kao, durations_test_kao, events_test_kao, censor_surv='km')\n",
    "print('Kao C-index = %.3f' %(ev_kao.concordance_td()))"
   ]
  },
  {
   "cell_type": "markdown",
   "metadata": {},
   "source": [
    "## DeepHit"
   ]
  },
  {
   "cell_type": "code",
   "execution_count": 22,
   "metadata": {},
   "outputs": [],
   "source": [
    "from pycox.models import DeepHitSingle\n",
    "\n",
    "def Deephit(Xtrain, Xval, Ytrain, Yval):\n",
    "    # preprocessing data\n",
    "    Xtrain = Xtrain.values.astype('float32')\n",
    "    Xval = Xval.values.astype('float32')\n",
    "    \n",
    "    # label transforms\n",
    "    num_durations = 480\n",
    "    labtrans = DeepHitSingle.label_transform(num_durations)\n",
    "    Ytrain = labtrans.fit_transform(*get_target(Ytrain))\n",
    "    Yval = labtrans.transform(*get_target(Yval))\n",
    "    train = (Xtrain, Ytrain)\n",
    "    val = (Xval, Yval)\n",
    "    \n",
    "    # parameters\n",
    "    in_features = Xtrain.shape[1]\n",
    "    num_nodes = [46, 32, 8]\n",
    "    out_features = labtrans.out_features\n",
    "    batch_norm = True\n",
    "    dropout = 0.1\n",
    "    output_bias = False\n",
    "    batch_size = 256\n",
    "    if Xtrain.shape[0]%batch_size == 1:\n",
    "        batch_size = batch_size - 1\n",
    "    epochs = 100\n",
    "    callbacks = [tt.callbacks.EarlyStopping(patience=20)]\n",
    "    verbose = False\n",
    "    \n",
    "    # network\n",
    "    net = tt.practical.MLPVanilla(in_features, num_nodes, out_features, batch_norm,\n",
    "                                  dropout, output_bias=output_bias)\n",
    "    \n",
    "    model = DeepHitSingle(net, tt.optim.Adam, alpha=0.2, sigma=0.1, duration_index=labtrans.cuts)\n",
    "\n",
    "    lrfinder = model.lr_finder(Xtrain, Ytrain, batch_size, tolerance=10)\n",
    "    best_lr = lrfinder.get_best_lr()\n",
    "    #print(best_lr)\n",
    "    #_ = lrfinder.plot()\n",
    "    #best_lr = 0.089\n",
    "    model.optimizer.set_lr(best_lr)\n",
    "    \n",
    "    log = model.fit(Xtrain, Ytrain, batch_size, epochs, callbacks, verbose,\n",
    "                    val_data=val, val_batch_size=batch_size)\n",
    "    \n",
    "    return model"
   ]
  },
  {
   "cell_type": "markdown",
   "metadata": {},
   "source": [
    "### top-5 deepHit"
   ]
  },
  {
   "cell_type": "code",
   "execution_count": 23,
   "metadata": {},
   "outputs": [],
   "source": [
    "# Seed\n",
    "seed = 369\n",
    "torch.manual_seed(seed)\n",
    "torch.cuda.manual_seed(seed)\n",
    "torch.cuda.manual_seed_all(seed)\n",
    "np.random.seed(seed)\n",
    "random.seed(seed)\n",
    "torch.backends.cudnn.benchmark = False\n",
    "torch.backends.cudnn.deterministic = True\n",
    "\n",
    "deep_hit = Deephit(X_train_5, X_val_5, y_train, y_val)"
   ]
  },
  {
   "cell_type": "code",
   "execution_count": 24,
   "metadata": {},
   "outputs": [
    {
     "name": "stdout",
     "output_type": "stream",
     "text": [
      "Kao C-index = 0.790\n"
     ]
    }
   ],
   "source": [
    "# prediction\n",
    "hit_surv = deep_hit.predict_surv_df(X_test_kao_5)\n",
    "# evaluation\n",
    "ev_kao = EvalSurv(hit_surv, durations_test_kao, events_test_kao, censor_surv='km')\n",
    "print('Kao C-index = %.3f' %(ev_kao.concordance_td()))"
   ]
  },
  {
   "cell_type": "markdown",
   "metadata": {},
   "source": [
    "### top-10 deepHit"
   ]
  },
  {
   "cell_type": "code",
   "execution_count": 25,
   "metadata": {},
   "outputs": [],
   "source": [
    "# Seed\n",
    "seed = 369\n",
    "torch.manual_seed(seed)\n",
    "torch.cuda.manual_seed(seed)\n",
    "torch.cuda.manual_seed_all(seed)\n",
    "np.random.seed(seed)\n",
    "random.seed(seed)\n",
    "torch.backends.cudnn.benchmark = False\n",
    "torch.backends.cudnn.deterministic = True\n",
    "\n",
    "deep_hit = Deephit(X_train_10, X_val_10, y_train, y_val)"
   ]
  },
  {
   "cell_type": "code",
   "execution_count": 26,
   "metadata": {},
   "outputs": [
    {
     "name": "stdout",
     "output_type": "stream",
     "text": [
      "Kao C-index = 0.811\n"
     ]
    }
   ],
   "source": [
    "# prediction\n",
    "hit_surv = deep_hit.predict_surv_df(X_test_kao_10)\n",
    "# evaluation\n",
    "ev_kao = EvalSurv(hit_surv, durations_test_kao, events_test_kao, censor_surv='km')\n",
    "print('Kao C-index = %.3f' %(ev_kao.concordance_td()))"
   ]
  },
  {
   "cell_type": "markdown",
   "metadata": {},
   "source": [
    "### top-15 deepHit"
   ]
  },
  {
   "cell_type": "code",
   "execution_count": 27,
   "metadata": {},
   "outputs": [],
   "source": [
    "# Seed\n",
    "seed = 369\n",
    "torch.manual_seed(seed)\n",
    "torch.cuda.manual_seed(seed)\n",
    "torch.cuda.manual_seed_all(seed)\n",
    "np.random.seed(seed)\n",
    "random.seed(seed)\n",
    "torch.backends.cudnn.benchmark = False\n",
    "torch.backends.cudnn.deterministic = True\n",
    "\n",
    "deep_hit = Deephit(X_train_15, X_val_15, y_train, y_val)"
   ]
  },
  {
   "cell_type": "code",
   "execution_count": 28,
   "metadata": {},
   "outputs": [
    {
     "name": "stdout",
     "output_type": "stream",
     "text": [
      "Kao C-index = 0.810\n"
     ]
    }
   ],
   "source": [
    "# prediction\n",
    "hit_surv = deep_hit.predict_surv_df(X_test_kao_15)\n",
    "# evaluation\n",
    "ev_kao = EvalSurv(hit_surv, durations_test_kao, events_test_kao, censor_surv='km')\n",
    "print('Kao C-index = %.3f' %(ev_kao.concordance_td()))"
   ]
  },
  {
   "cell_type": "markdown",
   "metadata": {},
   "source": [
    "## RandomSurvivalForest"
   ]
  },
  {
   "cell_type": "markdown",
   "metadata": {},
   "source": [
    "### top-5 RF"
   ]
  },
  {
   "cell_type": "code",
   "execution_count": 19,
   "metadata": {},
   "outputs": [
    {
     "name": "stdout",
     "output_type": "stream",
     "text": [
      "Kao C-index = 0.782\n"
     ]
    }
   ],
   "source": [
    "from sksurv.ensemble import RandomSurvivalForest\n",
    "\n",
    "rsf = RandomSurvivalForest(n_estimators=100,\n",
    "                           min_samples_split=10,\n",
    "                           min_samples_leaf=15,\n",
    "                           max_features=\"sqrt\",\n",
    "                           n_jobs=-1,\n",
    "                           random_state=369)\n",
    "\n",
    "rsf.fit(X_train_5, y_train_cox)\n",
    "print('Kao C-index = %.3f' %(rsf.score(X_test_kao_5, y_test_kao_cox)))"
   ]
  },
  {
   "cell_type": "markdown",
   "metadata": {},
   "source": [
    "### top-10 RF"
   ]
  },
  {
   "cell_type": "code",
   "execution_count": 20,
   "metadata": {},
   "outputs": [
    {
     "name": "stdout",
     "output_type": "stream",
     "text": [
      "Kao C-index = 0.805\n"
     ]
    }
   ],
   "source": [
    "from sksurv.ensemble import RandomSurvivalForest\n",
    "\n",
    "rsf = RandomSurvivalForest(n_estimators=100,\n",
    "                           min_samples_split=10,\n",
    "                           min_samples_leaf=15,\n",
    "                           max_features=\"sqrt\",\n",
    "                           n_jobs=-1,\n",
    "                           random_state=369)\n",
    "\n",
    "rsf.fit(X_train_10, y_train_cox)\n",
    "print('Kao C-index = %.3f' %(rsf.score(X_test_kao_10, y_test_kao_cox)))"
   ]
  },
  {
   "cell_type": "markdown",
   "metadata": {},
   "source": [
    "### top-32 RF"
   ]
  },
  {
   "cell_type": "code",
   "execution_count": 21,
   "metadata": {},
   "outputs": [
    {
     "name": "stdout",
     "output_type": "stream",
     "text": [
      "Kao C-index = 0.810\n"
     ]
    }
   ],
   "source": [
    "from sksurv.ensemble import RandomSurvivalForest\n",
    "\n",
    "rsf = RandomSurvivalForest(n_estimators=100,\n",
    "                           min_samples_split=10,\n",
    "                           min_samples_leaf=15,\n",
    "                           max_features=\"sqrt\",\n",
    "                           n_jobs=-1,\n",
    "                           random_state=369)\n",
    "\n",
    "rsf.fit(X_train_15, y_train_cox)\n",
    "print('Kao C-index = %.3f' %(rsf.score(X_test_kao_15, y_test_kao_cox)))"
   ]
  },
  {
   "cell_type": "code",
   "execution_count": null,
   "metadata": {},
   "outputs": [],
   "source": []
  }
 ],
 "metadata": {
  "kernelspec": {
   "display_name": "Python 3",
   "language": "python",
   "name": "python3"
  },
  "language_info": {
   "codemirror_mode": {
    "name": "ipython",
    "version": 3
   },
   "file_extension": ".py",
   "mimetype": "text/x-python",
   "name": "python",
   "nbconvert_exporter": "python",
   "pygments_lexer": "ipython3",
   "version": "3.8.5"
  }
 },
 "nbformat": 4,
 "nbformat_minor": 4
}
