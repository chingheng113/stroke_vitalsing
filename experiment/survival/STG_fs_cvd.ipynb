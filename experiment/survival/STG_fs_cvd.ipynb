{
 "cells": [
  {
   "cell_type": "markdown",
   "metadata": {},
   "source": [
    "# Include libraries"
   ]
  },
  {
   "cell_type": "code",
   "execution_count": 1,
   "metadata": {},
   "outputs": [],
   "source": [
    "import os\n",
    "import random\n",
    "import pandas as pd\n",
    "import numpy as np\n",
    "import matplotlib.pyplot as plt\n",
    "from sklearn.model_selection import train_test_split\n",
    "from sksurv.column import encode_categorical\n",
    "from sklearn import preprocessing\n",
    "from sklearn_pandas import DataFrameMapper"
   ]
  },
  {
   "cell_type": "markdown",
   "metadata": {},
   "source": [
    "# data preprocessing"
   ]
  },
  {
   "cell_type": "code",
   "execution_count": 2,
   "metadata": {},
   "outputs": [],
   "source": [
    "from sklearn import preprocessing\n",
    "from sklearn_pandas import DataFrameMapper\n",
    "\n",
    "def data_processing(data_df):\n",
    "    data_df_x = data_df.drop(['LOC', 'UID', 'Mortality', 'SurvivalDays', 'CVDeath'], axis=1)\n",
    "\n",
    "    data_df_y = data_df[['CVDeath', 'SurvivalDays']]\n",
    "\n",
    "    X_temp = data_df_x[(data_df.LOC == '3') | (data_df.LOC == '2') | (data_df.LOC == '6')]\n",
    "    y_temp = data_df_y[(data_df.LOC == '3') | (data_df.LOC == '2') | (data_df.LOC == '6')]\n",
    "    X_df_train, X_df_val, y_df_train, y_df_val = train_test_split(X_temp, y_temp, test_size=0.25, random_state=369)\n",
    "\n",
    "    X_df_test_kao = data_df_x[data_df.LOC == '8']\n",
    "    y_df_test_kao = data_df_y[data_df.LOC == '8']\n",
    "\n",
    "    categorical_columns = ['Sex', 'AF', 'DM', 'HTN', 'Dyslipidemia', 'CHF', 'Smoking',\n",
    "                           'Cancer.before.adm']\n",
    "    \n",
    "    numerical_columns = np.setdiff1d(data_df_x.columns, categorical_columns).tolist()\n",
    "\n",
    "    categorical_ix = [data_df_x.columns.get_loc(col) for col in categorical_columns]\n",
    "    numerical_ix =  np.setdiff1d(list(range(0, len(data_df_x.columns))), categorical_ix).tolist()\n",
    "\n",
    "    scaler = preprocessing.StandardScaler()\n",
    "\n",
    "    standardize = [([col], scaler) for col in numerical_columns]\n",
    "    leave = [(col, None) for col in categorical_columns]\n",
    "\n",
    "    x_mapper = DataFrameMapper(standardize + leave)\n",
    "\n",
    "    X_df_train = pd.DataFrame(data=x_mapper.fit_transform(X_df_train),\n",
    "                              columns=numerical_columns+categorical_columns,\n",
    "                              index=X_df_train.index)\n",
    "\n",
    "    X_df_val = pd.DataFrame(data=x_mapper.fit_transform(X_df_val),\n",
    "                            columns=numerical_columns+categorical_columns,\n",
    "                            index=X_df_val.index)\n",
    "\n",
    "    X_df_test_kao = pd.DataFrame(data=x_mapper.fit_transform(X_df_test_kao),\n",
    "                                 columns=numerical_columns+categorical_columns,\n",
    "                                 index=X_df_test_kao.index)\n",
    "\n",
    "    X_df_train = encode_categorical(X_df_train, columns=categorical_columns)\n",
    "    X_df_val = encode_categorical(X_df_val, columns=categorical_columns)\n",
    "    X_df_test_kao = encode_categorical(X_df_test_kao, columns=categorical_columns)\n",
    "    \n",
    "    return X_df_train, X_df_val, y_df_train, y_df_val, X_df_test_kao, y_df_test_kao"
   ]
  },
  {
   "cell_type": "markdown",
   "metadata": {},
   "source": [
    "# STG setting"
   ]
  },
  {
   "cell_type": "code",
   "execution_count": 3,
   "metadata": {},
   "outputs": [],
   "source": [
    "from stg import STG\n",
    "import stg.utils as utils"
   ]
  },
  {
   "cell_type": "markdown",
   "metadata": {},
   "source": [
    "### 3_2"
   ]
  },
  {
   "cell_type": "code",
   "execution_count": 4,
   "metadata": {},
   "outputs": [],
   "source": [
    "data_2 = pd.read_csv(os.path.join('..', '..', 'data', '(v3_2)STROKE_VITAL_SIGN_MICE.csv'))\n",
    "X_train_2, X_val_2, y_train_2, y_val_2, X_test_kao_2, y_test_kao_2 = data_processing(data_2)\n",
    "\n",
    "train_X_2 = X_train_2.values\n",
    "train_y_2 = {'e': y_train_2['CVDeath'].values, 't': y_train_2['SurvivalDays'].values}\n",
    "valid_X_2 = X_val_2.values\n",
    "valid_y_2 = {'e': y_val_2['CVDeath'].values, 't': y_val_2['SurvivalDays'].values}\n",
    "test_X_2 = X_test_kao_2.values\n",
    "test_y_2 = {'e': y_test_kao_2['CVDeath'].values, 't': y_test_kao_2['SurvivalDays'].values}\n",
    "\n",
    "\n",
    "train_data_2={}\n",
    "train_data_2['X'], train_data_2['E'], \\\n",
    "        train_data_2['T'] = utils.prepare_data(train_X_2, train_y_2)\n",
    "train_data_2['ties'] = 'noties'\n",
    "\n",
    "valid_data_2={}\n",
    "valid_data_2['X'], valid_data_2['E'], \\\n",
    "        valid_data_2['T'] = utils.prepare_data(valid_X_2, valid_y_2)\n",
    "valid_data_2['ties'] = 'noties'\n",
    "\n",
    "test_data_2 = {}\n",
    "test_data_2['X'], test_data_2['E'], \\\n",
    "        test_data_2['T'] = utils.prepare_data(test_X_2, test_y_2)\n",
    "test_data_2['ties'] = 'noties'"
   ]
  },
  {
   "cell_type": "code",
   "execution_count": 5,
   "metadata": {},
   "outputs": [],
   "source": [
    "import torch\n",
    "seed = 369\n",
    "torch.manual_seed(seed)\n",
    "torch.cuda.manual_seed(seed)\n",
    "torch.cuda.manual_seed_all(seed)\n",
    "np.random.seed(seed)\n",
    "random.seed(seed)\n",
    "torch.backends.cudnn.benchmark = False\n",
    "torch.backends.cudnn.deterministic = True\n",
    "\n",
    "model_2 = STG(task_type='cox', input_dim=train_data_2['X'].shape[1], output_dim=1, hidden_dims=[46, 32, 8], activation='selu',\n",
    "    optimizer='Adam', learning_rate=0.0005, batch_size=train_data_2['X'].shape[0], feature_selection=True,\n",
    "    sigma=0.5, lam=0.004, random_state=369, device='cpu')"
   ]
  },
  {
   "cell_type": "code",
   "execution_count": 6,
   "metadata": {},
   "outputs": [
    {
     "name": "stdout",
     "output_type": "stream",
     "text": [
      "Epoch: 100: CI=0.817955 loss=33.461906 valid_CI=0.829371 valid_loss=6.969312\n",
      "Epoch: 200: CI=0.832722 loss=32.457500 valid_CI=0.835709 valid_loss=6.925262\n",
      "Epoch: 300: CI=0.836591 loss=31.424000 valid_CI=0.836032 valid_loss=6.925278\n",
      "Epoch: 400: CI=0.833038 loss=30.270580 valid_CI=0.836663 valid_loss=6.942208\n",
      "Epoch: 500: CI=0.785350 loss=29.237690 valid_CI=0.836521 valid_loss=6.958551\n",
      "Epoch: 600: CI=0.809851 loss=27.814484 valid_CI=0.834234 valid_loss=7.001463\n"
     ]
    }
   ],
   "source": [
    "model_2.fit(train_data_2['X'], {'E': train_data_2['E'], 'T': train_data_2['T']}, nr_epochs=600,\n",
    "        valid_X=valid_data_2['X'], valid_y={'E': valid_data_2['E'], 'T': valid_data_2['T']}, print_interval=100)"
   ]
  },
  {
   "cell_type": "code",
   "execution_count": 7,
   "metadata": {},
   "outputs": [
    {
     "name": "stdout",
     "output_type": "stream",
     "text": [
      " test_CI=0.828722 test_loss=7.736737\n"
     ]
    }
   ],
   "source": [
    "model_2.evaluate(test_data_2['X'], {'E': test_data_2['E'], 'T': test_data_2['T']})"
   ]
  },
  {
   "cell_type": "code",
   "execution_count": 8,
   "metadata": {},
   "outputs": [
    {
     "data": {
      "text/plain": [
       "array([0.17559525, 0.18007356, 0.16827187, 0.15200248, 0.1684562 ,\n",
       "       0.15307623, 0.16590935, 0.16243443, 0.17195392, 0.17685339,\n",
       "       0.17721921, 0.17527494, 0.17090687, 0.14169383, 0.17714873,\n",
       "       0.16640091, 0.15833268, 0.17076302, 0.17180958, 0.17389861,\n",
       "       0.1752742 , 0.17102194, 0.17582846, 0.15670225, 0.16815946,\n",
       "       0.18006286, 0.18107843, 0.17268446, 0.17217767, 0.18713242,\n",
       "       0.17846012], dtype=float32)"
      ]
     },
     "execution_count": 8,
     "metadata": {},
     "output_type": "execute_result"
    }
   ],
   "source": [
    "gates_porb_2 = model_2.get_gates(mode='prob')\n",
    "gates_porb_2"
   ]
  },
  {
   "cell_type": "code",
   "execution_count": 9,
   "metadata": {},
   "outputs": [],
   "source": [
    "df = pd.DataFrame(data={'feature': X_train_2.columns.values, 'weight': gates_porb_2}, columns=['feature', 'weight']).sort_values(by=['weight'], ascending=False)\n",
    "df.to_csv('(v3_2_CVD)stg_FS.csv', index=False)"
   ]
  }
 ],
 "metadata": {
  "kernelspec": {
   "display_name": "Python 3",
   "language": "python",
   "name": "python3"
  },
  "language_info": {
   "codemirror_mode": {
    "name": "ipython",
    "version": 3
   },
   "file_extension": ".py",
   "mimetype": "text/x-python",
   "name": "python",
   "nbconvert_exporter": "python",
   "pygments_lexer": "ipython3",
   "version": "3.8.5"
  }
 },
 "nbformat": 4,
 "nbformat_minor": 4
}
