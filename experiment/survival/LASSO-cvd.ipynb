{
 "cells": [
  {
   "cell_type": "markdown",
   "metadata": {},
   "source": [
    "# Include libraries"
   ]
  },
  {
   "cell_type": "code",
   "execution_count": 1,
   "metadata": {},
   "outputs": [],
   "source": [
    "import os\n",
    "import pandas as pd\n",
    "import numpy as np\n",
    "import random\n",
    "import matplotlib.pyplot as plt\n",
    "from sklearn.model_selection import train_test_split\n",
    "from sksurv.column import encode_categorical"
   ]
  },
  {
   "cell_type": "markdown",
   "metadata": {},
   "source": [
    "## functions"
   ]
  },
  {
   "cell_type": "code",
   "execution_count": 2,
   "metadata": {},
   "outputs": [],
   "source": [
    "def plot_coefficients(coefs, n_highlight):\n",
    "    _, ax = plt.subplots(figsize=(9, 6))\n",
    "    n_features = coefs.shape[0]\n",
    "    alphas = coefs.columns\n",
    "    for row in coefs.itertuples():\n",
    "        ax.semilogx(alphas, row[1:], \".-\", label=row.Index)\n",
    "\n",
    "    alpha_min = alphas.min()\n",
    "    top_coefs = coefs.loc[:, alpha_min].map(abs).sort_values().tail(n_highlight)\n",
    "    for name in top_coefs.index:\n",
    "        coef = coefs.loc[name, alpha_min]\n",
    "        plt.text(\n",
    "            alpha_min, coef, name + \"   \",\n",
    "            horizontalalignment=\"right\",\n",
    "            verticalalignment=\"center\"\n",
    "        )\n",
    "\n",
    "    ax.yaxis.set_label_position(\"right\")\n",
    "    ax.yaxis.tick_right()\n",
    "    ax.grid(True)\n",
    "    ax.set_xlabel(\"alpha\")\n",
    "    ax.set_ylabel(\"coefficient\")"
   ]
  },
  {
   "cell_type": "markdown",
   "metadata": {},
   "source": [
    "## dataset loading..."
   ]
  },
  {
   "cell_type": "code",
   "execution_count": 3,
   "metadata": {},
   "outputs": [],
   "source": [
    "surv_data = pd.read_csv(os.path.join('..', '..', 'data', '(v4)STROKE_VITAL_SIGN_missForest.csv'))"
   ]
  },
  {
   "cell_type": "code",
   "execution_count": 4,
   "metadata": {},
   "outputs": [],
   "source": [
    "surv_data = surv_data[surv_data['CVDeath'] != 9999]"
   ]
  },
  {
   "cell_type": "markdown",
   "metadata": {},
   "source": [
    "## data preprocessing"
   ]
  },
  {
   "cell_type": "code",
   "execution_count": 5,
   "metadata": {},
   "outputs": [],
   "source": [
    "from sklearn import preprocessing\n",
    "from sklearn_pandas import DataFrameMapper\n",
    "\n",
    "def data_processing(data_df):\n",
    "    data_df_x = data_df.drop(['LOC', 'UID', 'Mortality', 'SurvivalDays', 'CVDeath', 'SurvivalMonths',\n",
    "                              'admission_date', 'discharge_date', 'death_date'], axis=1)\n",
    "\n",
    "    data_df_y = data_df[['CVDeath', 'SurvivalDays']]\n",
    "\n",
    "    X_temp = data_df_x[(data_df.LOC == '3') | (data_df.LOC == '2') | (data_df.LOC == '6')]\n",
    "    y_temp = data_df_y[(data_df.LOC == '3') | (data_df.LOC == '2') | (data_df.LOC == '6')]\n",
    "    X_df_train, X_df_val, y_df_train, y_df_val = train_test_split(X_temp, y_temp, test_size=0.25, random_state=369)\n",
    "\n",
    "    X_df_test_kao = data_df_x[data_df.LOC == '8']\n",
    "    y_df_test_kao = data_df_y[data_df.LOC == '8']\n",
    "\n",
    "    categorical_columns = ['Sex', 'AF', 'DM', 'HTN', 'Dyslipidemia', 'CHF', 'Smoking',\n",
    "                           'Cancer.before.adm']\n",
    "    \n",
    "    numerical_columns = np.setdiff1d(data_df_x.columns, categorical_columns).tolist()\n",
    "\n",
    "    categorical_ix = [data_df_x.columns.get_loc(col) for col in categorical_columns]\n",
    "    numerical_ix =  np.setdiff1d(list(range(0, len(data_df_x.columns))), categorical_ix).tolist()\n",
    "\n",
    "    scaler = preprocessing.StandardScaler()\n",
    "\n",
    "    standardize = [([col], scaler) for col in numerical_columns]\n",
    "    leave = [(col, None) for col in categorical_columns]\n",
    "\n",
    "    x_mapper = DataFrameMapper(standardize + leave)\n",
    "\n",
    "    X_df_train = pd.DataFrame(data=x_mapper.fit_transform(X_df_train),\n",
    "                              columns=numerical_columns+categorical_columns,\n",
    "                              index=X_df_train.index)\n",
    "\n",
    "    X_df_val = pd.DataFrame(data=x_mapper.fit_transform(X_df_val),\n",
    "                            columns=numerical_columns+categorical_columns,\n",
    "                            index=X_df_val.index)\n",
    "\n",
    "    X_df_test_kao = pd.DataFrame(data=x_mapper.fit_transform(X_df_test_kao),\n",
    "                                 columns=numerical_columns+categorical_columns,\n",
    "                                 index=X_df_test_kao.index)\n",
    "    # since those categorical variable are all boolen... no need to one-hot them\n",
    "    # https://stackoverflow.com/questions/43515877/should-binary-features-be-one-hot-encoded\n",
    "    \n",
    "#     X_df_train = encode_categorical(X_df_train, columns=categorical_columns)\n",
    "#     X_df_val = encode_categorical(X_df_val, columns=categorical_columns)\n",
    "#     X_df_test_kao = encode_categorical(X_df_test_kao, columns=categorical_columns)\n",
    "    \n",
    "    return X_df_train, X_df_val, y_df_train, y_df_val, X_df_test_kao, y_df_test_kao\n",
    "\n",
    "\n",
    "get_target = lambda df: (df['SurvivalDays'].values, df['CVDeath'].values)"
   ]
  },
  {
   "cell_type": "code",
   "execution_count": 6,
   "metadata": {},
   "outputs": [],
   "source": [
    "X_train, X_val, y_train, y_val, X_test_kao, y_test_kao = data_processing(surv_data)\n",
    "\n",
    "y_train_cox =  y_train.copy()\n",
    "y_train_cox.loc[:, 'CVDeath'] = y_train_cox['CVDeath'].astype(bool)\n",
    "y_train_cox = np.array(list(y_train_cox.to_records(index=False)))\n",
    "\n",
    "y_test_kao_cox =  y_test_kao.copy()\n",
    "y_test_kao_cox.loc[:, 'CVDeath'] = y_test_kao_cox['CVDeath'].astype(bool)\n",
    "y_test_kao_cox = np.array(list(y_test_kao_cox.to_records(index=False)))"
   ]
  },
  {
   "cell_type": "markdown",
   "metadata": {},
   "source": [
    "## cross validation for the best alpha"
   ]
  },
  {
   "cell_type": "code",
   "execution_count": 7,
   "metadata": {},
   "outputs": [],
   "source": [
    "import warnings\n",
    "from sklearn.model_selection import GridSearchCV, KFold\n",
    "from sklearn.exceptions import FitFailedWarning\n",
    "from sklearn.pipeline import make_pipeline\n",
    "from sklearn.preprocessing import StandardScaler\n",
    "from sksurv.linear_model import CoxPHSurvivalAnalysis, CoxnetSurvivalAnalysis\n",
    "\n",
    "coxnet_pipe = make_pipeline(\n",
    "    CoxnetSurvivalAnalysis(l1_ratio=1.0, alpha_min_ratio=0.01, max_iter=100)\n",
    ")\n",
    "\n",
    "warnings.simplefilter(\"ignore\", UserWarning)\n",
    "warnings.simplefilter(\"ignore\", FitFailedWarning)\n",
    "coxnet_pipe.fit(X_train, y_train_cox)\n",
    "\n",
    "estimated_alphas = coxnet_pipe.named_steps[\"coxnetsurvivalanalysis\"].alphas_\n",
    "cv = KFold(n_splits=10, shuffle=True, random_state=0)\n",
    "gcv = GridSearchCV(\n",
    "    make_pipeline(CoxnetSurvivalAnalysis(l1_ratio=1.0)),\n",
    "    param_grid={\"coxnetsurvivalanalysis__alphas\": [[v] for v in estimated_alphas]},\n",
    "    cv=cv,\n",
    "    error_score=0.5,\n",
    "    n_jobs=4).fit(X_train, y_train_cox)\n",
    "\n",
    "cv_results = pd.DataFrame(gcv.cv_results_)"
   ]
  },
  {
   "cell_type": "code",
   "execution_count": 8,
   "metadata": {},
   "outputs": [
    {
     "data": {
      "image/png": "[encoded data removed]",
      "text/plain": [
       "<Figure size 648x432 with 1 Axes>"
      ]
     },
     "metadata": {
      "needs_background": "light"
     },
     "output_type": "display_data"
    }
   ],
   "source": [
    "alphas = cv_results.param_coxnetsurvivalanalysis__alphas.map(lambda x: x[0])\n",
    "mean = cv_results.mean_test_score\n",
    "std = cv_results.std_test_score\n",
    "\n",
    "fig, ax = plt.subplots(figsize=(9, 6))\n",
    "ax.plot(alphas, mean)\n",
    "ax.fill_between(alphas, mean - std, mean + std, alpha=.15)\n",
    "ax.set_xscale(\"log\")\n",
    "ax.set_ylabel(\"concordance index\")\n",
    "ax.set_xlabel(\"alpha\")\n",
    "ax.axvline(gcv.best_params_[\"coxnetsurvivalanalysis__alphas\"][0], c=\"C1\")\n",
    "ax.axhline(0.5, color=\"grey\", linestyle=\"--\")\n",
    "ax.grid(True)"
   ]
  },
  {
   "cell_type": "markdown",
   "metadata": {},
   "source": [
    "## The best model"
   ]
  },
  {
   "cell_type": "code",
   "execution_count": 9,
   "metadata": {},
   "outputs": [
    {
     "name": "stdout",
     "output_type": "stream",
     "text": [
      "Number of non-zero coefficients: 20\n"
     ]
    }
   ],
   "source": [
    "best_model = gcv.best_estimator_.named_steps[\"coxnetsurvivalanalysis\"]\n",
    "best_coefs = pd.DataFrame(\n",
    "    best_model.coef_,\n",
    "    index=X_train.columns,\n",
    "    columns=[\"coefficient\"]\n",
    ")\n",
    "best_coefs.abs().sort_values(by='coefficient', ascending=False).to_csv('lasso_fs_cvd.csv')\n",
    "non_zero = np.sum(best_coefs.iloc[:, 0] != 0)\n",
    "print(\"Number of non-zero coefficients: {}\".format(non_zero))\n",
    "\n",
    "non_zero_coefs = best_coefs.query(\"coefficient != 0\")\n",
    "coef_order = non_zero_coefs.abs().sort_values(\"coefficient\").index"
   ]
  },
  {
   "cell_type": "code",
   "execution_count": 10,
   "metadata": {},
   "outputs": [
    {
     "data": {
      "text/plain": [
       "0.8177665817018019"
      ]
     },
     "execution_count": 10,
     "metadata": {},
     "output_type": "execute_result"
    }
   ],
   "source": [
    "best_model.score(X_test_kao, y_test_kao_cox)"
   ]
  },
  {
   "cell_type": "code",
   "execution_count": 11,
   "metadata": {
    "scrolled": true
   },
   "outputs": [
    {
     "data": {
      "image/png": "[encoded data removed]",
      "text/plain": [
       "<Figure size 432x576 with 1 Axes>"
      ]
     },
     "metadata": {
      "needs_background": "light"
     },
     "output_type": "display_data"
    }
   ],
   "source": [
    "_, ax = plt.subplots(figsize=(6, 8))\n",
    "non_zero_coefs.loc[coef_order].plot.barh(ax=ax, legend=False)\n",
    "ax.set_xlabel(\"coefficient\")\n",
    "ax.grid(True)"
   ]
  },
  {
   "cell_type": "code",
   "execution_count": 12,
   "metadata": {},
   "outputs": [
    {
     "data": {
      "text/plain": [
       "[0.001665759412245673]"
      ]
     },
     "execution_count": 12,
     "metadata": {},
     "output_type": "execute_result"
    }
   ],
   "source": [
    "best_model.alphas"
   ]
  },
  {
   "cell_type": "markdown",
   "metadata": {},
   "source": [
    "## Feature selection"
   ]
  },
  {
   "cell_type": "code",
   "execution_count": 13,
   "metadata": {
    "scrolled": true
   },
   "outputs": [
    {
     "name": "stdout",
     "output_type": "stream",
     "text": [
      "1\n",
      "0.6804806184703531\n",
      "2\n",
      "0.7868634234188167\n",
      "3\n",
      "0.7994231432549285\n",
      "4\n",
      "0.8021657399601666\n",
      "5\n",
      "0.8031453571519038\n",
      "6\n",
      "0.8032974605945552\n",
      "7\n",
      "0.8048190868632576\n",
      "8\n",
      "0.813090554932543\n",
      "9\n",
      "0.8137772102405744\n",
      "10\n",
      "0.8141147970253538\n",
      "11\n",
      "0.8161029133076663\n",
      "12\n",
      "0.8154067885246061\n",
      "13\n",
      "0.8161267053636764\n",
      "14\n",
      "0.8176953239022097\n",
      "15\n",
      "0.8174446195508202\n",
      "16\n",
      "0.8175587267249181\n",
      "17\n",
      "0.8181107971191016\n",
      "18\n",
      "0.818158144494246\n",
      "19\n",
      "0.817736752855461\n",
      "20\n",
      "0.8167486131361978\n",
      "21\n",
      "0.8167609234537353\n",
      "22\n",
      "0.8167592662956052\n",
      "23\n",
      "0.816759503032481\n",
      "24\n",
      "0.8167516907155822\n",
      "25\n",
      "0.816763764296244\n"
     ]
    }
   ],
   "source": [
    "from sksurv.linear_model import CoxPHSurvivalAnalysis\n",
    "features_list = best_coefs.abs().sort_values(by='coefficient', ascending=False).index\n",
    "\n",
    "for i in range(len(features_list)):\n",
    "    features = features_list[0:i+1]\n",
    "    if len(features) > 0:\n",
    "        X_train_fs = X_train[features]\n",
    "        X_val_fs = X_val[features]\n",
    "        X_test_kao_fs = X_test_kao[features].values.astype('float32')\n",
    "        \n",
    "        y_train_cox =  y_train.copy()\n",
    "        y_train_cox.loc[:, 'CVDeath'] = y_train_cox['CVDeath'].astype(bool)\n",
    "        y_train_cox = np.array(list(y_train_cox.to_records(index=False)))\n",
    "        y_test_kao_cox =  y_test_kao.copy()\n",
    "        y_test_kao_cox.loc[:, 'CVDeath'] = y_test_kao_cox['CVDeath'].astype(bool)\n",
    "        y_test_kao_cox = np.array(list(y_test_kao_cox.to_records(index=False)))\n",
    "        \n",
    "        print(X_train_fs.shape[1])\n",
    "        estimator = CoxPHSurvivalAnalysis()\n",
    "        estimator.fit(X_train_fs, y_train_cox)\n",
    "        print(estimator.score(X_test_kao_fs, y_test_kao_cox))      "
   ]
  },
  {
   "cell_type": "markdown",
   "metadata": {},
   "source": [
    "## Top 5 coefficient"
   ]
  },
  {
   "cell_type": "code",
   "execution_count": 14,
   "metadata": {},
   "outputs": [
    {
     "name": "stdout",
     "output_type": "stream",
     "text": [
      "5\n",
      "0.8031453571519038\n"
     ]
    }
   ],
   "source": [
    "features = features_list[0:5]\n",
    "X_train_fs = X_train[features]\n",
    "X_val_fs = X_val[features]\n",
    "X_test_kao_fs = X_test_kao[features].values.astype('float32')\n",
    "\n",
    "y_train_cox =  y_train.copy()\n",
    "y_train_cox.loc[:, 'CVDeath'] = y_train_cox['CVDeath'].astype(bool)\n",
    "y_train_cox = np.array(list(y_train_cox.to_records(index=False)))\n",
    "y_test_kao_cox =  y_test_kao.copy()\n",
    "y_test_kao_cox.loc[:, 'CVDeath'] = y_test_kao_cox['CVDeath'].astype(bool)\n",
    "y_test_kao_cox = np.array(list(y_test_kao_cox.to_records(index=False)))\n",
    "\n",
    "print(X_train_fs.shape[1])\n",
    "estimator = CoxPHSurvivalAnalysis()\n",
    "estimator.fit(X_train_fs, y_train_cox)\n",
    "print(estimator.score(X_test_kao_fs, y_test_kao_cox))\n",
    "#---\n",
    "best_coefs = pd.DataFrame(\n",
    "    estimator.coef_,\n",
    "    index=X_train_fs.columns,\n",
    "    columns=[\"coefficient\"]\n",
    ").to_csv('lasso_coef_cvd.csv')"
   ]
  },
  {
   "cell_type": "code",
   "execution_count": null,
   "metadata": {},
   "outputs": [],
   "source": []
  }
 ],
 "metadata": {
  "kernelspec": {
   "display_name": "Python 3",
   "language": "python",
   "name": "python3"
  },
  "language_info": {
   "codemirror_mode": {
    "name": "ipython",
    "version": 3
   },
   "file_extension": ".py",
   "mimetype": "text/x-python",
   "name": "python",
   "nbconvert_exporter": "python",
   "pygments_lexer": "ipython3",
   "version": "3.8.5"
  }
 },
 "nbformat": 4,
 "nbformat_minor": 4
}
