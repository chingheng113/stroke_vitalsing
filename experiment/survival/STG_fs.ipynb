{
 "cells": [
  {
   "cell_type": "markdown",
   "metadata": {},
   "source": [
    "# Include libraries"
   ]
  },
  {
   "cell_type": "code",
   "execution_count": 1,
   "metadata": {},
   "outputs": [],
   "source": [
    "import os\n",
    "import random\n",
    "import pandas as pd\n",
    "import numpy as np\n",
    "import matplotlib.pyplot as plt\n",
    "from sklearn.model_selection import train_test_split\n",
    "from sksurv.column import encode_categorical\n",
    "from sklearn import preprocessing\n",
    "from sklearn_pandas import DataFrameMapper"
   ]
  },
  {
   "cell_type": "markdown",
   "metadata": {},
   "source": [
    "# data preprocessing"
   ]
  },
  {
   "cell_type": "code",
   "execution_count": 2,
   "metadata": {},
   "outputs": [],
   "source": [
    "def data_processing(data_df):\n",
    "    data_df_x = data_df.drop(['LOC', 'UID', 'Hospital_ID', 'SurvivalWeeks', 'admission_date',\n",
    "                              'discharge_date', 'death_date', 'Mortality', 'CVDeath', 'SurvivalDays', 'CAD'], axis=1)\n",
    "\n",
    "    data_df_y = data_df[['Mortality', 'SurvivalWeeks']]\n",
    "\n",
    "    data_df_x = data_df_x.drop(['ICU'], axis=1)\n",
    "\n",
    "    X_temp = data_df_x[(data_df.LOC == '3') | (data_df.LOC == '2') | (data_df.LOC == '6')]\n",
    "    y_temp = data_df_y[(data_df.LOC == '3') | (data_df.LOC == '2') | (data_df.LOC == '6')]\n",
    "    X_df_train, X_df_val, y_df_train, y_df_val = train_test_split(X_temp, y_temp, test_size=0.25, random_state=369)\n",
    "\n",
    "    X_df_test_kao = data_df_x[data_df.LOC == '8']\n",
    "    y_df_test_kao = data_df_y[data_df.LOC == '8']\n",
    "\n",
    "    categorical_columns = ['Sex', 'AF', 'DM', 'HTN', 'Hyperlipidemia', 'CHF', 'Smoking',\n",
    "                           'Cancer.before.adm', 'Foley', 'NG', 'Dyslipidemia']\n",
    "    numerical_columns = np.setdiff1d(data_df_x.columns, categorical_columns).tolist()\n",
    "\n",
    "    categorical_ix = [data_df_x.columns.get_loc(col) for col in categorical_columns]\n",
    "    numerical_ix = np.setdiff1d(list(range(0, len(data_df_x.columns))), categorical_ix).tolist()\n",
    "\n",
    "    scaler = preprocessing.StandardScaler()\n",
    "\n",
    "    standardize = [([col], scaler) for col in numerical_columns]\n",
    "    leave = [(col, None) for col in categorical_columns]\n",
    "\n",
    "    x_mapper = DataFrameMapper(standardize + leave)\n",
    "\n",
    "    X_df_train = pd.DataFrame(data=x_mapper.fit_transform(X_df_train),\n",
    "                              columns=numerical_columns + categorical_columns,\n",
    "                              index=X_df_train.index)\n",
    "\n",
    "    X_df_val = pd.DataFrame(data=x_mapper.fit_transform(X_df_val),\n",
    "                            columns=numerical_columns + categorical_columns,\n",
    "                            index=X_df_val.index)\n",
    "\n",
    "    X_df_test_kao = pd.DataFrame(data=x_mapper.fit_transform(X_df_test_kao),\n",
    "                                 columns=numerical_columns + categorical_columns,\n",
    "                                 index=X_df_test_kao.index)\n",
    "\n",
    "    X_df_train = encode_categorical(X_df_train, columns=categorical_columns)\n",
    "    X_df_val = encode_categorical(X_df_val, columns=categorical_columns)\n",
    "    X_df_test_kao = encode_categorical(X_df_test_kao, columns=categorical_columns)\n",
    "\n",
    "    return X_df_train, X_df_val, y_df_train, y_df_val, X_df_test_kao, y_df_test_kao"
   ]
  },
  {
   "cell_type": "markdown",
   "metadata": {},
   "source": [
    "# STG setting"
   ]
  },
  {
   "cell_type": "code",
   "execution_count": 3,
   "metadata": {},
   "outputs": [],
   "source": [
    "from stg import STG\n",
    "import stg.utils as utils"
   ]
  },
  {
   "cell_type": "code",
   "execution_count": 4,
   "metadata": {},
   "outputs": [],
   "source": [
    "data = pd.read_csv(os.path.join('..', '..', 'data', '(v2)STROKE_VITAL_SIGN_MICE.csv'))\n",
    "X_train, X_val, y_train, y_val, X_test_kao, y_test_kao = data_processing(data)\n",
    "\n",
    "train_X = X_train.values\n",
    "train_y = {'e': y_train['Mortality'].values, 't': y_train['SurvivalWeeks'].values}\n",
    "valid_X = X_val.values\n",
    "valid_y = {'e': y_val['Mortality'].values, 't': y_val['SurvivalWeeks'].values}\n",
    "test_X = X_test_kao.values\n",
    "test_y = {'e': y_test_kao['Mortality'].values, 't': y_test_kao['SurvivalWeeks'].values}\n",
    "\n",
    "\n",
    "train_data={}\n",
    "train_data['X'], train_data['E'], \\\n",
    "        train_data['T'] = utils.prepare_data(train_X, train_y)\n",
    "train_data['ties'] = 'noties'\n",
    "\n",
    "valid_data={}\n",
    "valid_data['X'], valid_data['E'], \\\n",
    "        valid_data['T'] = utils.prepare_data(valid_X, valid_y)\n",
    "valid_data['ties'] = 'noties'\n",
    "\n",
    "test_data = {}\n",
    "test_data['X'], test_data['E'], \\\n",
    "        test_data['T'] = utils.prepare_data(test_X, test_y)\n",
    "test_data['ties'] = 'noties'"
   ]
  },
  {
   "cell_type": "code",
   "execution_count": 5,
   "metadata": {},
   "outputs": [],
   "source": [
    "import torch\n",
    "seed = 369\n",
    "torch.manual_seed(seed)\n",
    "torch.cuda.manual_seed(seed)\n",
    "torch.cuda.manual_seed_all(seed)\n",
    "np.random.seed(seed)\n",
    "random.seed(seed)\n",
    "torch.backends.cudnn.benchmark = False\n",
    "torch.backends.cudnn.deterministic = True\n",
    "\n",
    "model = STG(task_type='cox', input_dim=train_data['X'].shape[1], output_dim=1, hidden_dims=[46, 32, 8], activation='selu',\n",
    "    optimizer='Adam', learning_rate=0.0005, batch_size=train_data['X'].shape[0], feature_selection=True,\n",
    "    sigma=0.5, lam=0.004, random_state=369, device='cpu')"
   ]
  },
  {
   "cell_type": "code",
   "execution_count": null,
   "metadata": {},
   "outputs": [
    {
     "name": "stdout",
     "output_type": "stream",
     "text": [
      "Epoch: 100: CI=0.783163 loss=50.681866 valid_CI=0.791814 valid_loss=7.137518\n",
      "Epoch: 200: CI=0.803430 loss=49.029358 valid_CI=0.806908 valid_loss=7.054734\n",
      "Epoch: 300: CI=0.803912 loss=47.309471 valid_CI=0.808565 valid_loss=7.049631\n",
      "Epoch: 400: CI=0.797884 loss=45.449902 valid_CI=0.808524 valid_loss=7.054497\n",
      "Epoch: 500: CI=0.787584 loss=43.394169 valid_CI=0.808360 valid_loss=7.075408\n"
     ]
    }
   ],
   "source": [
    "model.fit(train_data['X'], {'E': train_data['E'], 'T': train_data['T']}, nr_epochs=600,\n",
    "        valid_X=valid_data['X'], valid_y={'E': valid_data['E'], 'T': valid_data['T']}, print_interval=100)"
   ]
  },
  {
   "cell_type": "code",
   "execution_count": null,
   "metadata": {},
   "outputs": [],
   "source": [
    "model.evaluate(test_data['X'], {'E': test_data['E'], 'T': test_data['T']})"
   ]
  },
  {
   "cell_type": "code",
   "execution_count": null,
   "metadata": {},
   "outputs": [],
   "source": [
    "gates_porb = model.get_gates(mode='prob')\n",
    "gates_porb"
   ]
  },
  {
   "cell_type": "code",
   "execution_count": null,
   "metadata": {},
   "outputs": [],
   "source": [
    "df = pd.DataFrame(data={'feature': X_train.columns.values, 'weight': gates_porb}, columns=['feature', 'weight']).sort_values(by=['weight'], ascending=False)\n",
    "df.to_csv('stg_FS.csv', index=False)"
   ]
  },
  {
   "cell_type": "code",
   "execution_count": null,
   "metadata": {},
   "outputs": [],
   "source": []
  }
 ],
 "metadata": {
  "kernelspec": {
   "display_name": "Python 3",
   "language": "python",
   "name": "python3"
  },
  "language_info": {
   "codemirror_mode": {
    "name": "ipython",
    "version": 3
   },
   "file_extension": ".py",
   "mimetype": "text/x-python",
   "name": "python",
   "nbconvert_exporter": "python",
   "pygments_lexer": "ipython3",
   "version": "3.8.5"
  }
 },
 "nbformat": 4,
 "nbformat_minor": 4
}
