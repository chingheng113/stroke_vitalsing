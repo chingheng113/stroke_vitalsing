{
 "cells": [
  {
   "cell_type": "markdown",
   "metadata": {},
   "source": [
    "# Include libraries"
   ]
  },
  {
   "cell_type": "code",
   "execution_count": 1,
   "metadata": {},
   "outputs": [],
   "source": [
    "import os\n",
    "import random\n",
    "import pandas as pd\n",
    "import numpy as np\n",
    "import matplotlib.pyplot as plt\n",
    "from sklearn.model_selection import train_test_split\n",
    "from sksurv.column import encode_categorical\n",
    "from sklearn import preprocessing\n",
    "from sklearn_pandas import DataFrameMapper"
   ]
  },
  {
   "cell_type": "markdown",
   "metadata": {},
   "source": [
    "# data preprocessing"
   ]
  },
  {
   "cell_type": "code",
   "execution_count": 2,
   "metadata": {},
   "outputs": [],
   "source": [
    "def data_processing(data_df):\n",
    "    data_df_x = data_df.drop(['LOC', 'UID', 'Hospital_ID', 'SurvivalWeeks', 'admission_date',\n",
    "                              'discharge_date', 'death_date', 'Mortality', 'CVDeath', 'SurvivalDays', 'CAD'], axis=1)\n",
    "\n",
    "    data_df_y = data_df[['Mortality', 'SurvivalWeeks']]\n",
    "\n",
    "    data_df_x = data_df_x.drop(['ICU'], axis=1)\n",
    "\n",
    "    X_temp = data_df_x[(data_df.LOC == '3') | (data_df.LOC == '2') | (data_df.LOC == '6')]\n",
    "    y_temp = data_df_y[(data_df.LOC == '3') | (data_df.LOC == '2') | (data_df.LOC == '6')]\n",
    "    X_df_train, X_df_val, y_df_train, y_df_val = train_test_split(X_temp, y_temp, test_size=0.25, random_state=369)\n",
    "\n",
    "    X_df_test_kao = data_df_x[data_df.LOC == '8']\n",
    "    y_df_test_kao = data_df_y[data_df.LOC == '8']\n",
    "\n",
    "    categorical_columns = ['Sex', 'AF', 'DM', 'HTN', 'Hyperlipidemia', 'CHF', 'Smoking',\n",
    "                           'Cancer.before.adm', 'Foley', 'NG', 'Dyslipidemia']\n",
    "    numerical_columns = np.setdiff1d(data_df_x.columns, categorical_columns).tolist()\n",
    "\n",
    "    categorical_ix = [data_df_x.columns.get_loc(col) for col in categorical_columns]\n",
    "    numerical_ix = np.setdiff1d(list(range(0, len(data_df_x.columns))), categorical_ix).tolist()\n",
    "\n",
    "    scaler = preprocessing.StandardScaler()\n",
    "\n",
    "    standardize = [([col], scaler) for col in numerical_columns]\n",
    "    leave = [(col, None) for col in categorical_columns]\n",
    "\n",
    "    x_mapper = DataFrameMapper(standardize + leave)\n",
    "\n",
    "    X_df_train = pd.DataFrame(data=x_mapper.fit_transform(X_df_train),\n",
    "                              columns=numerical_columns + categorical_columns,\n",
    "                              index=X_df_train.index)\n",
    "\n",
    "    X_df_val = pd.DataFrame(data=x_mapper.fit_transform(X_df_val),\n",
    "                            columns=numerical_columns + categorical_columns,\n",
    "                            index=X_df_val.index)\n",
    "\n",
    "    X_df_test_kao = pd.DataFrame(data=x_mapper.fit_transform(X_df_test_kao),\n",
    "                                 columns=numerical_columns + categorical_columns,\n",
    "                                 index=X_df_test_kao.index)\n",
    "\n",
    "    X_df_train = encode_categorical(X_df_train, columns=categorical_columns)\n",
    "    X_df_val = encode_categorical(X_df_val, columns=categorical_columns)\n",
    "    X_df_test_kao = encode_categorical(X_df_test_kao, columns=categorical_columns)\n",
    "\n",
    "    return X_df_train, X_df_val, y_df_train, y_df_val, X_df_test_kao, y_df_test_kao"
   ]
  },
  {
   "cell_type": "markdown",
   "metadata": {},
   "source": [
    "# STG setting"
   ]
  },
  {
   "cell_type": "code",
   "execution_count": 3,
   "metadata": {},
   "outputs": [],
   "source": [
    "from stg import STG\n",
    "import stg.utils as utils"
   ]
  },
  {
   "cell_type": "code",
   "execution_count": 4,
   "metadata": {},
   "outputs": [],
   "source": [
    "data = pd.read_csv(os.path.join('..', '..', 'data', '(v2)STROKE_VITAL_SIGN_MICE.csv'))\n",
    "X_train, X_val, y_train, y_val, X_test_kao, y_test_kao = data_processing(data)\n",
    "\n",
    "train_X = X_train.values\n",
    "train_y = {'e': y_train['Mortality'].values, 't': y_train['SurvivalWeeks'].values}\n",
    "valid_X = X_val.values\n",
    "valid_y = {'e': y_val['Mortality'].values, 't': y_val['SurvivalWeeks'].values}\n",
    "test_X = X_test_kao.values\n",
    "test_y = {'e': y_test_kao['Mortality'].values, 't': y_test_kao['SurvivalWeeks'].values}\n",
    "\n",
    "\n",
    "train_data={}\n",
    "train_data['X'], train_data['E'], \\\n",
    "        train_data['T'] = utils.prepare_data(train_X, train_y)\n",
    "train_data['ties'] = 'noties'\n",
    "\n",
    "valid_data={}\n",
    "valid_data['X'], valid_data['E'], \\\n",
    "        valid_data['T'] = utils.prepare_data(valid_X, valid_y)\n",
    "valid_data['ties'] = 'noties'\n",
    "\n",
    "test_data = {}\n",
    "test_data['X'], test_data['E'], \\\n",
    "        test_data['T'] = utils.prepare_data(test_X, test_y)\n",
    "test_data['ties'] = 'noties'"
   ]
  },
  {
   "cell_type": "code",
   "execution_count": 5,
   "metadata": {},
   "outputs": [],
   "source": [
    "import torch\n",
    "seed = 369\n",
    "torch.manual_seed(seed)\n",
    "torch.cuda.manual_seed(seed)\n",
    "torch.cuda.manual_seed_all(seed)\n",
    "np.random.seed(seed)\n",
    "random.seed(seed)\n",
    "torch.backends.cudnn.benchmark = False\n",
    "torch.backends.cudnn.deterministic = True\n",
    "\n",
    "model = STG(task_type='cox', input_dim=train_data['X'].shape[1], output_dim=1, hidden_dims=[46, 32, 8], activation='relu',\n",
    "    optimizer='Adam', learning_rate=0.0005, batch_size=train_data['X'].shape[0], feature_selection=True,\n",
    "    sigma=0.5, lam=0.004, random_state=369, device='cpu')"
   ]
  },
  {
   "cell_type": "code",
   "execution_count": 6,
   "metadata": {},
   "outputs": [
    {
     "name": "stdout",
     "output_type": "stream",
     "text": [
      "Epoch: 100: CI=0.763156 loss=50.775986 valid_CI=0.756817 valid_loss=7.278597\n",
      "Epoch: 200: CI=0.798891 loss=49.069801 valid_CI=0.798499 valid_loss=7.111500\n",
      "Epoch: 300: CI=0.800245 loss=47.332664 valid_CI=0.806494 valid_loss=7.080393\n",
      "Epoch: 400: CI=0.799623 loss=45.455093 valid_CI=0.807413 valid_loss=7.073556\n",
      "Epoch: 500: CI=0.789933 loss=43.396740 valid_CI=0.808727 valid_loss=7.098788\n",
      "Epoch: 600: CI=0.805910 loss=41.111671 valid_CI=0.807766 valid_loss=7.116194\n"
     ]
    }
   ],
   "source": [
    "model.fit(train_data['X'], {'E': train_data['E'], 'T': train_data['T']}, nr_epochs=600,\n",
    "        valid_X=valid_data['X'], valid_y={'E': valid_data['E'], 'T': valid_data['T']}, print_interval=100)"
   ]
  },
  {
   "cell_type": "code",
   "execution_count": 7,
   "metadata": {},
   "outputs": [
    {
     "name": "stdout",
     "output_type": "stream",
     "text": [
      " test_CI=0.813013 test_loss=7.779222\n"
     ]
    }
   ],
   "source": [
    "model.evaluate(test_data['X'], {'E': test_data['E'], 'T': test_data['T']})"
   ]
  },
  {
   "cell_type": "code",
   "execution_count": 8,
   "metadata": {},
   "outputs": [
    {
     "data": {
      "text/plain": [
       "array([0.15060955, 0.15631801, 0.18764704, 0.1767317 , 0.17185378,\n",
       "       0.16733521, 0.15187135, 0.17705327, 0.16521072, 0.16717038,\n",
       "       0.17274958, 0.16694689, 0.18363988, 0.16668785, 0.17750025,\n",
       "       0.16266236, 0.15730035, 0.17983463, 0.15913281, 0.16195878,\n",
       "       0.16702688, 0.17219648, 0.16437775, 0.17542702, 0.1696685 ,\n",
       "       0.17900321, 0.18218982, 0.1707021 , 0.16304517, 0.15504864,\n",
       "       0.16012797, 0.17580304, 0.17532668, 0.1604434 , 0.19385886,\n",
       "       0.17422047, 0.16233423, 0.16567776, 0.16683578, 0.17302325,\n",
       "       0.18504089, 0.180648  , 0.18246707, 0.17109063, 0.15805474,\n",
       "       0.16836125, 0.17077863, 0.16559455, 0.1839453 , 0.16380775,\n",
       "       0.17442945, 0.15704015], dtype=float32)"
      ]
     },
     "execution_count": 8,
     "metadata": {},
     "output_type": "execute_result"
    }
   ],
   "source": [
    "gates_porb = model.get_gates(mode='prob')\n",
    "gates_porb"
   ]
  },
  {
   "cell_type": "code",
   "execution_count": 10,
   "metadata": {},
   "outputs": [],
   "source": [
    "df = pd.DataFrame(data={'feature': X_train.columns.values, 'weight': gates_porb}, columns=['feature', 'weight']).sort_values(by=['weight'], ascending=False)\n",
    "df.to_csv('stg_FS.csv', index=False)"
   ]
  },
  {
   "cell_type": "code",
   "execution_count": null,
   "metadata": {},
   "outputs": [],
   "source": []
  }
 ],
 "metadata": {
  "kernelspec": {
   "display_name": "Python 3",
   "language": "python",
   "name": "python3"
  },
  "language_info": {
   "codemirror_mode": {
    "name": "ipython",
    "version": 3
   },
   "file_extension": ".py",
   "mimetype": "text/x-python",
   "name": "python",
   "nbconvert_exporter": "python",
   "pygments_lexer": "ipython3",
   "version": "3.8.5"
  }
 },
 "nbformat": 4,
 "nbformat_minor": 4
}
