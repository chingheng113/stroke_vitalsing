{
 "cells": [
  {
   "cell_type": "code",
   "execution_count": 1,
   "metadata": {},
   "outputs": [],
   "source": [
    "import pandas as pd\n",
    "import numpy as np\n",
    "import os\n",
    "# 2010-2018\n",
    "raw_data = pd.read_csv(os.path.join('..', 'data', 'Stroke_Vital_Sign.csv'))\n",
    "raw_data.replace({9999: np.nan}, inplace=True)\n",
    "raw_data.fillna(value={'death_date':20181231}, inplace=True)"
   ]
  },
  {
   "cell_type": "code",
   "execution_count": 2,
   "metadata": {},
   "outputs": [
    {
     "name": "stdout",
     "output_type": "stream",
     "text": [
      "Before removing: (21695, 54)\n",
      "After removing: (19865, 54)\n"
     ]
    }
   ],
   "source": [
    "# remove < 1yr follow-up\n",
    "# last date 20181231 -> 20171231\n",
    "print('Before removing:', raw_data.shape)\n",
    "raw_data = raw_data[raw_data.discharge_date < 20171231]\n",
    "print('After removing:', raw_data.shape)"
   ]
  },
  {
   "cell_type": "code",
   "execution_count": 3,
   "metadata": {},
   "outputs": [
    {
     "name": "stdout",
     "output_type": "stream",
     "text": [
      "Subjects:19865, Features:54\n",
      "Age_mean: 67.37, Age_std: 12.87,\n",
      "Male: 61.92%\n",
      "Mortality: 31.11%\n",
      "short term  < 1 month death: 4.10%\n",
      "intermediate term  1–3 month death: 6.08%\n",
      "long term  3–12 month death: 10.93%\n"
     ]
    }
   ],
   "source": [
    "print('Subjects:{}, Features:{}'.format(raw_data.shape[0], raw_data.shape[1]))\n",
    "print('Age_mean: %.2f, Age_std: %.2f,' %(np.mean(raw_data.Age), np.std(raw_data.Age)))\n",
    "male_protion = (raw_data[raw_data.Sex==1].shape[0]/raw_data.Sex.shape[0])*100\n",
    "print('Male: %.2f%%' %male_protion)\n",
    "Mortality_protion = (raw_data[raw_data.Mortality==1].shape[0]/raw_data.Mortality.shape[0])*100\n",
    "print('Mortality: %.2f%%' %Mortality_protion)\n",
    "\n",
    "# short term  < 1 month\n",
    "short_protion = (raw_data[(raw_data.SurvivalWeeks < 4.1)].shape[0]/raw_data.SurvivalWeeks.shape[0])*100\n",
    "print('short term  < 1 month death: %.2f%%' %short_protion)\n",
    "# intermediate term 1–3 months\n",
    "# intermediate_protion = (raw_data[(raw_data.SurvivalWeeks > 3.9) & (raw_data.SurvivalWeeks < 12.1)].shape[0]/raw_data.SurvivalWeeks.shape[0])*100\n",
    "intermediate_protion = (raw_data[raw_data.SurvivalWeeks < 12.1].shape[0]/raw_data.SurvivalWeeks.shape[0])*100\n",
    "print('intermediate term  1–3 month death: %.2f%%' %intermediate_protion)\n",
    "# long term 3–12 months\n",
    "# long_protion = (raw_data[(raw_data.SurvivalWeeks > 11.9) & (raw_data.SurvivalWeeks < 48.1)].shape[0]/raw_data.SurvivalWeeks.shape[0])*100\n",
    "long_protion = (raw_data[raw_data.SurvivalWeeks < 48.1].shape[0]/raw_data.SurvivalWeeks.shape[0])*100\n",
    "print('long term  3–12 month death: %.2f%%' %long_protion)"
   ]
  },
  {
   "cell_type": "code",
   "execution_count": 4,
   "metadata": {},
   "outputs": [
    {
     "name": "stdout",
     "output_type": "stream",
     "text": [
      "Tidy_subjects:2690, Tidy_features:54\n",
      "Tidy_Age_mean: 67.56, Tidy_Age_std: 12.86\n",
      "Tidy_Male: 63.57%\n",
      "Tidy_Mortality: 32.71%\n",
      "tidy_short term  < 1 month death: 4.16%\n",
      "tidy_intermediate term  1–3 month death: 6.54%\n",
      "tidy_long term  3–12 month death: 12.60%\n"
     ]
    }
   ],
   "source": [
    "tidy_data = raw_data.dropna(axis=0)\n",
    "tidy_data.to_csv('a.csv', index=False)\n",
    "print('Tidy_subjects:{}, Tidy_features:{}'.format(tidy_data.shape[0], tidy_data.shape[1]))\n",
    "print('Tidy_Age_mean: %.2f, Tidy_Age_std: %.2f' %(np.mean(tidy_data.Age), np.std(tidy_data.Age)))\n",
    "tidy_male_protion = (tidy_data[tidy_data.Sex==1].shape[0]/tidy_data.Sex.shape[0])*100\n",
    "print('Tidy_Male: %.2f%%' %tidy_male_protion)\n",
    "tidy_Mortality_protion = (tidy_data[tidy_data.Mortality==1].shape[0]/tidy_data.Mortality.shape[0])*100\n",
    "print('Tidy_Mortality: %.2f%%' %tidy_Mortality_protion)\n",
    "\n",
    "# short term  < 1 month\n",
    "tidy_short_protion = (tidy_data[tidy_data.SurvivalWeeks < 4].shape[0]/tidy_data.SurvivalWeeks.shape[0])*100\n",
    "print('tidy_short term  < 1 month death: %.2f%%' %tidy_short_protion)\n",
    "# intermediate term 1–3 months\n",
    "# tidy_intermediate_protion = (tidy_data[(tidy_data.SurvivalWeeks > 4.1) & (tidy_data.SurvivalWeeks < 12.1)].shape[0]/tidy_data.SurvivalWeeks.shape[0])*100\n",
    "tidy_intermediate_protion = (tidy_data[tidy_data.SurvivalWeeks < 12.1].shape[0]/tidy_data.SurvivalWeeks.shape[0])*100\n",
    "print('tidy_intermediate term  1–3 month death: %.2f%%' %tidy_intermediate_protion)\n",
    "# long term 3–12 months\n",
    "# tidy_long_protion = (tidy_data[(tidy_data.SurvivalWeeks > 11.9) & (tidy_data.SurvivalWeeks < 48.1)].shape[0]/tidy_data.SurvivalWeeks.shape[0])*100\n",
    "tidy_long_protion = (tidy_data[tidy_data.SurvivalWeeks < 48.1].shape[0]/tidy_data.SurvivalWeeks.shape[0])*100\n",
    "print('tidy_long term  3–12 month death: %.2f%%' %tidy_long_protion)"
   ]
  },
  {
   "cell_type": "code",
   "execution_count": 5,
   "metadata": {},
   "outputs": [
    {
     "name": "stdout",
     "output_type": "stream",
     "text": [
      " \n",
      "Count total NaN at each column in a DataFrame : \n",
      "\n",
      " UID                      0\n",
      "Hospital_ID              0\n",
      "Sex                      0\n",
      "Age                      0\n",
      "AF                       0\n",
      "DM                       0\n",
      "HTN                      0\n",
      "Hyperlipidemia           0\n",
      "CHF                      0\n",
      "Smoking                  0\n",
      "Cancer before adm        0\n",
      "ALT                    669\n",
      "AST                  10864\n",
      "CHOL                  2098\n",
      "HbA1c                 9411\n",
      "TG                    2101\n",
      "Creatinine            4755\n",
      "E                      194\n",
      "V                     1373\n",
      "M                      209\n",
      "Foley                    0\n",
      "NG                       0\n",
      "ICU                      0\n",
      "MPsum                 2627\n",
      "Mean HR                 18\n",
      "MeanHR G                18\n",
      "HR SD                   18\n",
      "HRSD G                  18\n",
      "HR CV                   18\n",
      "HRCV G                  18\n",
      "Mean SBP                17\n",
      "Mean SBP G              17\n",
      "SBP SD                  17\n",
      "SBPSD G                 17\n",
      "SBP CV                  17\n",
      "SBPCV G                 17\n",
      "Mean DBP                25\n",
      "MeanDBP G               25\n",
      "DBP SD                  25\n",
      "DBPSD G                 25\n",
      "DBP CV                  25\n",
      "DBPCV G                 25\n",
      "Mean RR                 61\n",
      "MeanRR G                61\n",
      "RR SD                   61\n",
      "RRSD G                  61\n",
      "RR CV                   61\n",
      "RRCV G                  61\n",
      "Mortality                0\n",
      "SurvivalWeeks            0\n",
      "admission_date           0\n",
      "discharge_date           0\n",
      "death_date               0\n",
      "CVDeath                746\n",
      "dtype: int64\n"
     ]
    }
   ],
   "source": [
    "print(\" \\nCount total NaN at each column in a DataFrame : \\n\\n\", \n",
    "      raw_data.isnull().sum()) "
   ]
  },
  {
   "cell_type": "markdown",
   "metadata": {},
   "source": [
    "# Make experiment dataset"
   ]
  },
  {
   "cell_type": "code",
   "execution_count": 6,
   "metadata": {},
   "outputs": [
    {
     "name": "stdout",
     "output_type": "stream",
     "text": [
      "subjects:13623, features:51\n"
     ]
    }
   ],
   "source": [
    "ex_data = raw_data.drop(['AST', 'HbA1c', 'Creatinine'], axis=1)\n",
    "ex_data = ex_data.dropna(axis=0)\n",
    "print('subjects:{}, features:{}'.format(ex_data.shape[0], ex_data.shape[1]))"
   ]
  },
  {
   "cell_type": "code",
   "execution_count": 7,
   "metadata": {},
   "outputs": [],
   "source": [
    "ex_data.to_csv(os.path.join('..', 'data','tidy_Stroke_Vital_Sign.csv'), index=False)"
   ]
  },
  {
   "cell_type": "code",
   "execution_count": null,
   "metadata": {},
   "outputs": [],
   "source": []
  }
 ],
 "metadata": {
  "kernelspec": {
   "display_name": "Python 3",
   "language": "python",
   "name": "python3"
  },
  "language_info": {
   "codemirror_mode": {
    "name": "ipython",
    "version": 3
   },
   "file_extension": ".py",
   "mimetype": "text/x-python",
   "name": "python",
   "nbconvert_exporter": "python",
   "pygments_lexer": "ipython3",
   "version": "3.8.5"
  }
 },
 "nbformat": 4,
 "nbformat_minor": 4
}
