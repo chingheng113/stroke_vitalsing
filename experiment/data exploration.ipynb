{
 "cells": [
  {
   "cell_type": "code",
   "execution_count": 1,
   "metadata": {},
   "outputs": [],
   "source": [
    "import pandas as pd\n",
    "import numpy as np\n",
    "import os\n",
    "# 2010-2018\n",
    "raw_data = pd.read_csv(os.path.join('..', 'data', 'Clinical data with 3 days vital sign parameters.csv'))\n",
    "raw_data.replace({9999: np.nan}, inplace=True)"
   ]
  },
  {
   "cell_type": "code",
   "execution_count": 2,
   "metadata": {},
   "outputs": [
    {
     "name": "stdout",
     "output_type": "stream",
     "text": [
      "Before removing: (20764, 53)\n",
      "After removing: (19023, 53)\n"
     ]
    }
   ],
   "source": [
    "# remove < 1yr follow-up\n",
    "# last date 20181231 -> 20171231\n",
    "print('Before removing:', raw_data.shape)\n",
    "raw_data = raw_data[raw_data.discharge_date < 20171231]\n",
    "print('After removing:', raw_data.shape)"
   ]
  },
  {
   "cell_type": "code",
   "execution_count": 3,
   "metadata": {},
   "outputs": [
    {
     "name": "stdout",
     "output_type": "stream",
     "text": [
      "Subjects:19023, Features:53\n",
      "Age_mean: 67.09, Age_std: 12.78,\n",
      "Male: 62.31%\n",
      "AllMortality: 28.06%\n",
      "short term  < 1 month death: 0.00%\n",
      "intermediate term  1–3 month death: 1.92%\n",
      "long term  3–12 month death: 6.99%\n"
     ]
    }
   ],
   "source": [
    "print('Subjects:{}, Features:{}'.format(raw_data.shape[0], raw_data.shape[1]))\n",
    "print('Age_mean: %.2f, Age_std: %.2f,' %(np.mean(raw_data.Age), np.std(raw_data.Age)))\n",
    "male_protion = (raw_data[raw_data.Sex==1].shape[0]/raw_data.Sex.shape[0])*100\n",
    "print('Male: %.2f%%' %male_protion)\n",
    "AllMortality_protion = (raw_data[raw_data.AllMortality==1].shape[0]/raw_data.AllMortality.shape[0])*100\n",
    "print('AllMortality: %.2f%%' %AllMortality_protion)\n",
    "\n",
    "# short term  < 1 month\n",
    "short_protion = (raw_data[(raw_data.SurvivalWeeks < 4.1)].shape[0]/raw_data.SurvivalWeeks.shape[0])*100\n",
    "print('short term  < 1 month death: %.2f%%' %short_protion)\n",
    "# intermediate term 1–3 months\n",
    "# intermediate_protion = (raw_data[(raw_data.SurvivalWeeks > 3.9) & (raw_data.SurvivalWeeks < 12.1)].shape[0]/raw_data.SurvivalWeeks.shape[0])*100\n",
    "intermediate_protion = (raw_data[raw_data.SurvivalWeeks < 12.1].shape[0]/raw_data.SurvivalWeeks.shape[0])*100\n",
    "print('intermediate term  1–3 month death: %.2f%%' %intermediate_protion)\n",
    "# long term 3–12 months\n",
    "# long_protion = (raw_data[(raw_data.SurvivalWeeks > 11.9) & (raw_data.SurvivalWeeks < 48.1)].shape[0]/raw_data.SurvivalWeeks.shape[0])*100\n",
    "long_protion = (raw_data[raw_data.SurvivalWeeks < 48.1].shape[0]/raw_data.SurvivalWeeks.shape[0])*100\n",
    "print('long term  3–12 month death: %.2f%%' %long_protion)"
   ]
  },
  {
   "cell_type": "code",
   "execution_count": 4,
   "metadata": {},
   "outputs": [
    {
     "name": "stdout",
     "output_type": "stream",
     "text": [
      "Tidy_subjects:1748, Tidy_features:53\n",
      "Tidy_Age_mean: 66.96, Tidy_Age_std: 12.91\n",
      "Tidy_Male: 65.90%\n",
      "Tidy_AllMortality: 27.75%\n",
      "tidy_short term  < 1 month death: 0.00%\n",
      "tidy_intermediate term  1–3 month death: 2.29%\n",
      "tidy_long term  3–12 month death: 9.10%\n"
     ]
    }
   ],
   "source": [
    "tidy_data = raw_data.dropna(axis=0)\n",
    "print('Tidy_subjects:{}, Tidy_features:{}'.format(tidy_data.shape[0], tidy_data.shape[1]))\n",
    "print('Tidy_Age_mean: %.2f, Tidy_Age_std: %.2f' %(np.mean(tidy_data.Age), np.std(tidy_data.Age)))\n",
    "tidy_male_protion = (tidy_data[tidy_data.Sex==1].shape[0]/tidy_data.Sex.shape[0])*100\n",
    "print('Tidy_Male: %.2f%%' %tidy_male_protion)\n",
    "tidy_AllMortality_protion = (tidy_data[tidy_data.AllMortality==1].shape[0]/tidy_data.AllMortality.shape[0])*100\n",
    "print('Tidy_AllMortality: %.2f%%' %tidy_AllMortality_protion)\n",
    "\n",
    "# short term  < 1 month\n",
    "tidy_short_protion = (tidy_data[tidy_data.SurvivalWeeks < 4].shape[0]/tidy_data.SurvivalWeeks.shape[0])*100\n",
    "print('tidy_short term  < 1 month death: %.2f%%' %tidy_short_protion)\n",
    "# intermediate term 1–3 months\n",
    "# tidy_intermediate_protion = (tidy_data[(tidy_data.SurvivalWeeks > 4.1) & (tidy_data.SurvivalWeeks < 12.1)].shape[0]/tidy_data.SurvivalWeeks.shape[0])*100\n",
    "tidy_intermediate_protion = (tidy_data[tidy_data.SurvivalWeeks < 12.1].shape[0]/tidy_data.SurvivalWeeks.shape[0])*100\n",
    "print('tidy_intermediate term  1–3 month death: %.2f%%' %tidy_intermediate_protion)\n",
    "# long term 3–12 months\n",
    "# tidy_long_protion = (tidy_data[(tidy_data.SurvivalWeeks > 11.9) & (tidy_data.SurvivalWeeks < 48.1)].shape[0]/tidy_data.SurvivalWeeks.shape[0])*100\n",
    "tidy_long_protion = (tidy_data[tidy_data.SurvivalWeeks < 48.1].shape[0]/tidy_data.SurvivalWeeks.shape[0])*100\n",
    "print('tidy_long term  3–12 month death: %.2f%%' %tidy_long_protion)"
   ]
  },
  {
   "cell_type": "code",
   "execution_count": 5,
   "metadata": {},
   "outputs": [
    {
     "name": "stdout",
     "output_type": "stream",
     "text": [
      " \n",
      "Count total NaN at each column in a DataFrame : \n",
      "\n",
      " ID                       0\n",
      "CHT_NO                   0\n",
      "admin_date               0\n",
      "discharge_date           0\n",
      "Sex                      0\n",
      "Age                      0\n",
      "AF                       0\n",
      "DM                       0\n",
      "HTN                      0\n",
      "Dyslipidemia             0\n",
      "CHF                      0\n",
      "Smoking                  0\n",
      "BMI                   6267\n",
      "Cancer before adm        0\n",
      "E                      166\n",
      "V                     1165\n",
      "M                      177\n",
      "MPsum                 2476\n",
      "SSI                      0\n",
      "Creatinine            4653\n",
      "ALT                    636\n",
      "AST                  10563\n",
      "CHOL                  1871\n",
      "HbA1c                 8913\n",
      "TG                    1876\n",
      "Mean HR                 16\n",
      "MeanHR G                16\n",
      "HR SD                   16\n",
      "HRSD G                  16\n",
      "HR CV                   16\n",
      "HRCV G                  16\n",
      "Mean SBP                13\n",
      "Mean SBP G              13\n",
      "SBP SD                  13\n",
      "SBPSD G                 13\n",
      "SBP CV                  13\n",
      "SBPCV G                 13\n",
      "Mean DBP                19\n",
      "MeanDBP G               19\n",
      "DBP SD                  19\n",
      "DBPSD G                 19\n",
      "DBP CV                  19\n",
      "DBPCV G                 19\n",
      "Mean RR                 58\n",
      "MeanRR G                58\n",
      "RR SD                   58\n",
      "RRSD G                  58\n",
      "RR CV                   58\n",
      "RRCV G                  58\n",
      "AllMortality             0\n",
      "CVDeath                674\n",
      "Death Date               0\n",
      "SurvivalWeeks            0\n",
      "dtype: int64\n"
     ]
    }
   ],
   "source": [
    "print(\" \\nCount total NaN at each column in a DataFrame : \\n\\n\", \n",
    "      raw_data.isnull().sum()) "
   ]
  },
  {
   "cell_type": "markdown",
   "metadata": {},
   "source": [
    "# Make experiment dataset"
   ]
  },
  {
   "cell_type": "code",
   "execution_count": 6,
   "metadata": {},
   "outputs": [
    {
     "name": "stdout",
     "output_type": "stream",
     "text": [
      "subjects:13244, features:49\n"
     ]
    }
   ],
   "source": [
    "ex_data = raw_data.drop(['AST', 'BMI', 'HbA1c', 'Creatinine'], axis=1)\n",
    "ex_data = ex_data.dropna(axis=0)\n",
    "print('subjects:{}, features:{}'.format(ex_data.shape[0], ex_data.shape[1]))"
   ]
  },
  {
   "cell_type": "code",
   "execution_count": 7,
   "metadata": {},
   "outputs": [],
   "source": [
    "ex_data.to_csv(os.path.join('..', 'data','ex_data.csv'), index=False)"
   ]
  },
  {
   "cell_type": "code",
   "execution_count": null,
   "metadata": {},
   "outputs": [],
   "source": []
  }
 ],
 "metadata": {
  "kernelspec": {
   "display_name": "Python 3",
   "language": "python",
   "name": "python3"
  },
  "language_info": {
   "codemirror_mode": {
    "name": "ipython",
    "version": 3
   },
   "file_extension": ".py",
   "mimetype": "text/x-python",
   "name": "python",
   "nbconvert_exporter": "python",
   "pygments_lexer": "ipython3",
   "version": "3.8.5"
  }
 },
 "nbformat": 4,
 "nbformat_minor": 4
}
