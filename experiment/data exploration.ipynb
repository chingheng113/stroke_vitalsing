{
 "cells": [
  {
   "cell_type": "code",
   "execution_count": 6,
   "metadata": {},
   "outputs": [],
   "source": [
    "import pandas as pd\n",
    "import numpy as np\n",
    "import os\n",
    "raw_data = pd.read_csv(os.path.join('..', 'data', 'Clinical data with 3 days vital sign parameters.csv'))\n",
    "raw_data.replace({9999: np.nan}, inplace=True)"
   ]
  },
  {
   "cell_type": "code",
   "execution_count": 17,
   "metadata": {},
   "outputs": [
    {
     "name": "stdout",
     "output_type": "stream",
     "text": [
      "Subjects:20764, Features:53\n",
      "Age_mean: 67.07, Age_std: 12.84,\n",
      "Male: 62.28%\n",
      "AllMortality: 26.12%\n",
      "short term  < 1 month death: 0.19%\n",
      "intermediate term  1–3 month death: 2.05%\n",
      "long term  3–12 month death: 11.86%\n"
     ]
    }
   ],
   "source": [
    "print('Subjects:{}, Features:{}'.format(raw_data.shape[0], raw_data.shape[1]))\n",
    "print('Age_mean: %.2f, Age_std: %.2f,' %(np.mean(raw_data.Age), np.std(raw_data.Age)))\n",
    "male_protion = (raw_data[raw_data.Sex==1].shape[0]/raw_data.Sex.shape[0])*100\n",
    "print('Male: %.2f%%' %male_protion)\n",
    "AllMortality_protion = (raw_data[raw_data.AllMortality==1].shape[0]/raw_data.AllMortality.shape[0])*100\n",
    "print('AllMortality: %.2f%%' %AllMortality_protion)\n",
    "\n",
    "# short term  < 1 month\n",
    "short_protion = (raw_data[raw_data.SurvivalWeeks < 5].shape[0]/raw_data.SurvivalWeeks.shape[0])*100\n",
    "print('short term  < 1 month death: %.2f%%' %short_protion)\n",
    "# intermediate term 1–3 months\n",
    "intermediate_protion = (raw_data[(raw_data.SurvivalWeeks > 4) & (raw_data.SurvivalWeeks < 13)].shape[0]/raw_data.SurvivalWeeks.shape[0])*100\n",
    "print('intermediate term  1–3 month death: %.2f%%' %intermediate_protion)\n",
    "# long term 3–12 months\n",
    "long_protion = (raw_data[(raw_data.SurvivalWeeks > 12) & (raw_data.SurvivalWeeks < 49)].shape[0]/raw_data.SurvivalWeeks.shape[0])*100\n",
    "print('long term  3–12 month death: %.2f%%' %long_protion)"
   ]
  },
  {
   "cell_type": "code",
   "execution_count": 12,
   "metadata": {},
   "outputs": [
    {
     "name": "stdout",
     "output_type": "stream",
     "text": [
      " \n",
      "Count total NaN at each column in a DataFrame : \n",
      "\n",
      " ID                       0\n",
      "CHT_NO                   0\n",
      "admin_date               0\n",
      "discharge_date           0\n",
      "Sex                      0\n",
      "Age                      0\n",
      "AF                       0\n",
      "DM                       0\n",
      "HTN                      0\n",
      "Dyslipidemia             0\n",
      "CHF                      0\n",
      "Smoking                  0\n",
      "BMI                   6489\n",
      "Cancer before adm        0\n",
      "E                      166\n",
      "V                     1292\n",
      "M                      177\n",
      "MPsum                 2487\n",
      "SSI                      0\n",
      "Creatinine            5070\n",
      "ALT                    776\n",
      "AST                  11586\n",
      "CHOL                  2019\n",
      "HbA1c                 9765\n",
      "TG                    2024\n",
      "Mean HR                 39\n",
      "MeanHR G                39\n",
      "HR SD                   39\n",
      "HRSD G                  39\n",
      "HR CV                   39\n",
      "HRCV G                  39\n",
      "Mean SBP                27\n",
      "Mean SBP G              27\n",
      "SBP SD                  27\n",
      "SBPSD G                 27\n",
      "SBP CV                  27\n",
      "SBPCV G                 27\n",
      "Mean DBP                47\n",
      "MeanDBP G               47\n",
      "DBP SD                  47\n",
      "DBPSD G                 47\n",
      "DBP CV                  47\n",
      "DBPCV G                 47\n",
      "Mean RR                 94\n",
      "MeanRR G                94\n",
      "RR SD                   94\n",
      "RRSD G                  94\n",
      "RR CV                   94\n",
      "RRCV G                  94\n",
      "AllMortality             0\n",
      "CVDeath                685\n",
      "Death Date               0\n",
      "SurvivalWeeks            0\n",
      "dtype: int64\n"
     ]
    }
   ],
   "source": [
    "print(\" \\nCount total NaN at each column in a DataFrame : \\n\\n\", \n",
    "      raw_data.isnull().sum()) "
   ]
  },
  {
   "cell_type": "code",
   "execution_count": 19,
   "metadata": {},
   "outputs": [
    {
     "name": "stdout",
     "output_type": "stream",
     "text": [
      "Tidy_subjects:1952, Tidy_features:53\n",
      "Tidy_Age_mean: 66.88, Tidy_Age_std: 12.98\n",
      "Tidy_Male: 65.73%\n",
      "Tidy_AllMortality: 25.46%\n",
      "tidy_short term  < 1 month death: 0.36%\n",
      "tidy_intermediate term  1–3 month death: 2.31%\n",
      "tidy_long term  3–12 month death: 14.91%\n"
     ]
    }
   ],
   "source": [
    "tidy_data = raw_data.dropna(axis=0)\n",
    "print('Tidy_subjects:{}, Tidy_features:{}'.format(tidy_data.shape[0], tidy_data.shape[1]))\n",
    "print('Tidy_Age_mean: %.2f, Tidy_Age_std: %.2f' %(np.mean(tidy_data.Age), np.std(tidy_data.Age)))\n",
    "tidy_male_protion = (tidy_data[tidy_data.Sex==1].shape[0]/tidy_data.Sex.shape[0])*100\n",
    "print('Tidy_Male: %.2f%%' %tidy_male_protion)\n",
    "tidy_AllMortality_protion = (tidy_data[tidy_data.AllMortality==1].shape[0]/tidy_data.AllMortality.shape[0])*100\n",
    "print('Tidy_AllMortality: %.2f%%' %tidy_AllMortality_protion)\n",
    "\n",
    "# short term  < 1 month\n",
    "tidy_short_protion = (tidy_data[tidy_data.SurvivalWeeks < 5].shape[0]/tidy_data.SurvivalWeeks.shape[0])*100\n",
    "print('tidy_short term  < 1 month death: %.2f%%' %tidy_short_protion)\n",
    "# intermediate term 1–3 months\n",
    "tidy_intermediate_protion = (tidy_data[(tidy_data.SurvivalWeeks > 4) & (tidy_data.SurvivalWeeks < 13)].shape[0]/tidy_data.SurvivalWeeks.shape[0])*100\n",
    "print('tidy_intermediate term  1–3 month death: %.2f%%' %tidy_intermediate_protion)\n",
    "# long term 3–12 months\n",
    "tidy_long_protion = (tidy_data[(tidy_data.SurvivalWeeks > 12) & (tidy_data.SurvivalWeeks < 49)].shape[0]/tidy_data.SurvivalWeeks.shape[0])*100\n",
    "print('tidy_long term  3–12 month death: %.2f%%' %tidy_long_protion)"
   ]
  },
  {
   "cell_type": "code",
   "execution_count": null,
   "metadata": {},
   "outputs": [],
   "source": []
  }
 ],
 "metadata": {
  "kernelspec": {
   "display_name": "Python 3",
   "language": "python",
   "name": "python3"
  },
  "language_info": {
   "codemirror_mode": {
    "name": "ipython",
    "version": 3
   },
   "file_extension": ".py",
   "mimetype": "text/x-python",
   "name": "python",
   "nbconvert_exporter": "python",
   "pygments_lexer": "ipython3",
   "version": "3.8.5"
  }
 },
 "nbformat": 4,
 "nbformat_minor": 4
}
