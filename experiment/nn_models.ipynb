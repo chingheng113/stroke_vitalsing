{
 "cells": [
  {
   "cell_type": "code",
   "execution_count": 1,
   "metadata": {},
   "outputs": [
    {
     "name": "stdout",
     "output_type": "stream",
     "text": [
      "tensor([[0.5480, 0.1399, 0.3928],\n",
      "        [0.2062, 0.1328, 0.8493],\n",
      "        [0.7059, 0.0646, 0.5163],\n",
      "        [0.9365, 0.1434, 0.7803],\n",
      "        [0.1458, 0.4249, 0.5384]])\n"
     ]
    }
   ],
   "source": [
    "import torch\n",
    "x = torch.rand(5, 3)\n",
    "print(x)"
   ]
  },
  {
   "cell_type": "code",
   "execution_count": 4,
   "metadata": {},
   "outputs": [
    {
     "name": "stdout",
     "output_type": "stream",
     "text": [
      "CUDA available\n",
      "Driver： cuda:0\n",
      "GPU version：  GeForce RTX 2080 Ti\n"
     ]
    }
   ],
   "source": [
    "flag = torch.cuda.is_available()\n",
    "if flag:\n",
    "    print(\"CUDA available\")\n",
    "else:\n",
    "    print(\"CUDA unavailable\")\n",
    "\n",
    "ngpu= 1\n",
    "# Decide which device we want to run on\n",
    "device = torch.device(\"cuda:0\" if (torch.cuda.is_available() and ngpu > 0) else \"cpu\")\n",
    "print(\"Driver：\", device)\n",
    "print(\"GPU version： \",torch.cuda.get_device_name(0))"
   ]
  },
  {
   "cell_type": "code",
   "execution_count": null,
   "metadata": {},
   "outputs": [],
   "source": []
  }
 ],
 "metadata": {
  "kernelspec": {
   "display_name": "Python 3",
   "language": "python",
   "name": "python3"
  },
  "language_info": {
   "codemirror_mode": {
    "name": "ipython",
    "version": 3
   },
   "file_extension": ".py",
   "mimetype": "text/x-python",
   "name": "python",
   "nbconvert_exporter": "python",
   "pygments_lexer": "ipython3",
   "version": "3.8.5"
  }
 },
 "nbformat": 4,
 "nbformat_minor": 4
}
