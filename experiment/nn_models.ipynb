{
 "cells": [
  {
   "cell_type": "code",
   "execution_count": 3,
   "metadata": {},
   "outputs": [
    {
     "name": "stdout",
     "output_type": "stream",
     "text": [
      "Executing the model on : cuda:0\n"
     ]
    }
   ],
   "source": [
    "import torch\n",
    "#Create the model\n",
    "device = torch.device(\"cuda:0\" if torch.cuda.is_available() else \"cpu\")\n",
    "# Assume that we are on a CUDA machine, then this should print a CUDA device:\n",
    "print(\"Executing the model on :\",device)"
   ]
  },
  {
   "cell_type": "code",
   "execution_count": 4,
   "metadata": {},
   "outputs": [],
   "source": [
    "import pandas as pd\n",
    "import numpy as np\n",
    "import os\n",
    "\n",
    "ex_data = pd.read_csv(os.path.join('..', 'data', 'ex_data.csv'))\n",
    "\n",
    "ex_data['admin_date'] = ex_data['admin_date'].astype(int).astype(str)\n",
    "in_date = pd.to_datetime(ex_data['admin_date'], format='%Y/%m/%d', errors='coerce')\n",
    "\n",
    "ex_data['discharge_date'] = ex_data['discharge_date'].astype(int).astype(str)\n",
    "out_date = pd.to_datetime(ex_data['discharge_date'], format='%Y/%m/%d', errors='coerce')\n",
    "\n",
    "day_diff = out_date - in_date\n",
    "ex_data['duration'] = day_diff.dt.days\n",
    "\n",
    "y_data = ex_data[['SurvivalWeeks']]\n",
    "X_data = ex_data.drop(['ID', 'CHT_NO', 'admin_date', 'discharge_date',\n",
    "                       'AllMortality', 'CVDeath  ', 'Death Date', 'SurvivalWeeks'], axis=1)\n",
    "\n",
    "categorical_columns = ['Sex', 'AF', 'DM', 'HTN', 'Dyslipidemia', 'CHF', 'Smoking', 'Cancer before adm']\n",
    "numerical_columns =  np.setdiff1d(X_data.columns, categorical_columns)"
   ]
  },
  {
   "cell_type": "markdown",
   "metadata": {},
   "source": [
    "# Basic NN"
   ]
  },
  {
   "cell_type": "code",
   "execution_count": 5,
   "metadata": {},
   "outputs": [
    {
     "name": "stdout",
     "output_type": "stream",
     "text": [
      "DNN(\n",
      "  (fc1): Linear(in_features=30, out_features=15, bias=True)\n",
      "  (fc2): Linear(in_features=15, out_features=7, bias=True)\n",
      "  (fc3): Linear(in_features=7, out_features=1, bias=True)\n",
      ")\n"
     ]
    }
   ],
   "source": [
    "from torch import nn\n",
    "import torch.utils.data as Data\n",
    "import torch.nn.functional as F\n",
    "\n",
    "class DNN (nn.Module):\n",
    "    def __init__(self):\n",
    "        super(DNN, self).__init__()\n",
    "        self.fc1 = nn.Linear(30, 15)\n",
    "        self.fc2 = nn.Linear(15, 7)\n",
    "        self.fc3 = nn.Linear(7, 1)\n",
    "\n",
    "    def forward(self, x):\n",
    "        x = F.relu(self.fc1(x))\n",
    "        x = F.relu(self.fc2(x))\n",
    "        x = F.sigmoid(self.fc3(x))\n",
    "        return x\n",
    "\n",
    "model = DNN()\n",
    "print(model)"
   ]
  },
  {
   "cell_type": "code",
   "execution_count": 6,
   "outputs": [],
   "source": [
    "# Settings\n",
    "epochs = 10\n",
    "batch_size = 128\n",
    "lr = 0.008\n",
    "\n",
    "optimizer = torch.optim.Adam(model.parameters(), lr=lr)\n",
    "loss_function = nn.MSELoss()"
   ],
   "metadata": {
    "collapsed": false,
    "pycharm": {
     "name": "#%%\n"
    }
   }
  },
  {
   "cell_type": "code",
   "execution_count": 7,
   "outputs": [
    {
     "ename": "SyntaxError",
     "evalue": "unexpected EOF while parsing (<ipython-input-7-f7734f86eb01>, line 3)",
     "output_type": "error",
     "traceback": [
      "\u001B[1;36m  File \u001B[1;32m\"<ipython-input-7-f7734f86eb01>\"\u001B[1;36m, line \u001B[1;32m3\u001B[0m\n\u001B[1;33m    \u001B[0m\n\u001B[1;37m    ^\u001B[0m\n\u001B[1;31mSyntaxError\u001B[0m\u001B[1;31m:\u001B[0m unexpected EOF while parsing\n"
     ]
    }
   ],
   "source": [
    "# for epoch in range(epochs):\n"
   ],
   "metadata": {
    "collapsed": false,
    "pycharm": {
     "name": "#%%\n"
    }
   }
  },
  {
   "cell_type": "code",
   "execution_count": null,
   "outputs": [],
   "source": [
    "from sklearn.model_selection import KFold\n",
    "from sklearn import preprocessing\n",
    "from imblearn import over_sampling\n",
    "from sklearn.metrics import auc, roc_curve\n",
    "\n",
    "# one-hot\n",
    "X_data_one_hot = pd.get_dummies(X_data, columns=categorical_columns)\n",
    "y_data_od = (y_data<24).astype(int)\n",
    "\n",
    "all_auroc = []\n",
    "for train_index, test_index in KFold(n_splits=10, random_state=42, shuffle=True).split(X_data_one_hot):\n",
    "    X_train, X_test = X_data_one_hot.iloc[train_index], X_data_one_hot.iloc[test_index]\n",
    "    y_train, y_test = y_data_od.iloc[train_index], y_data_od.iloc[test_index]\n",
    "\n",
    "    # scaling\n",
    "    scaler = preprocessing.MinMaxScaler()\n",
    "    X_train = scaler.fit_transform(X_train)\n",
    "    X_test = scaler.transform(X_test)\n",
    "\n",
    "    # over-sampling\n",
    "    # print('before', y_train.groupby(['SurvivalWeeks']).size())\n",
    "    sm = over_sampling.SVMSMOTE(random_state=42)\n",
    "    X_train, y_train = sm.fit_resample(X_train, y_train)\n",
    "    # print('after', y_train.groupby(['SurvivalWeeks']).size())\n",
    "\n",
    "    # DataLoader\n",
    "    train_xt = torch.from_numpy(X_train.astype(np.float32)).cuda(device)\n",
    "    train_yt = torch.from_numpy(y_train.astype(np.float32)).cuda(device)\n",
    "    train_data = Data.TensorDataset(train_xt, train_yt)\n",
    "    train_loader = Data.DataLoader(train_data, batch_size=batch_size, shuffle=True)\n",
    "\n",
    "    print('d')\n",
    "\n",
    "\n",
    "\n",
    "\n",
    "\n",
    "\n",
    "\n",
    "\n",
    "\n",
    "\n",
    "    # define the model\n",
    "#     model = ExtraTreesClassifier(n_estimators=250,  random_state=42)\n",
    "#     model.fit(X_train, y_train.values.ravel())\n",
    "#     y_pred = model.predict_proba(X_test)\n",
    "#     fpr, tpr, thresholds = roc_curve(y_test, y_pred[:, 1])\n",
    "#     auroc = auc(fpr, tpr)\n",
    "#     print('auc', auroc)\n",
    "#     all_auroc.append(auroc)\n",
    "# print(np.mean(all_auroc), np.std(all_auroc))\n"
   ],
   "metadata": {
    "collapsed": false,
    "pycharm": {
     "name": "#%%\n"
    }
   }
  }
 ],
 "metadata": {
  "kernelspec": {
   "name": "python3",
   "language": "python",
   "display_name": "Python 3"
  },
  "language_info": {
   "codemirror_mode": {
    "name": "ipython",
    "version": 3
   },
   "file_extension": ".py",
   "mimetype": "text/x-python",
   "name": "python",
   "nbconvert_exporter": "python",
   "pygments_lexer": "ipython3",
   "version": "3.8.5"
  }
 },
 "nbformat": 4,
 "nbformat_minor": 4
}